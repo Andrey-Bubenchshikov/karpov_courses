{
 "cells": [
  {
   "cell_type": "markdown",
   "id": "1325cab8-da46-4bc6-bab1-a51fa05e9a68",
   "metadata": {},
   "source": [
    "## Task 1\n",
    "Начнём с простого: сохраните в переменную **age** произвольный возраст, выраженный целым числом, а в переменную **name** – какое-нибудь имя в виде строки."
   ]
  },
  {
   "cell_type": "code",
   "execution_count": 1,
   "id": "e163c24f-6015-464c-b570-6715ffd8b318",
   "metadata": {},
   "outputs": [],
   "source": [
    "age = 25\n",
    "name = 'John'"
   ]
  },
  {
   "cell_type": "markdown",
   "id": "3eff23d3-42dc-4a6e-961c-9e3a5c2f16ed",
   "metadata": {},
   "source": [
    "## Task 2\n",
    "Создайте список **user_info**, содержащий 4 элемента в следующем порядке:\n",
    "\n",
    " - 2 строки (имя и фамилия пользователя)\n",
    " - 1 дробное число (зарплата)\n",
    " - 1 целое число (стаж)\n"
   ]
  },
  {
   "cell_type": "code",
   "execution_count": null,
   "id": "7ed0aca9-338f-447d-99d7-f4196db7e289",
   "metadata": {},
   "outputs": [],
   "source": [
    "user_info = ['John', 'Smith', 100000/6, 3]"
   ]
  },
  {
   "cell_type": "markdown",
   "id": "37ea7f14-329b-476a-a8a9-58c1ea4320f6",
   "metadata": {
    "tags": []
   },
   "source": [
    "## Task 3\n",
    "Поместите в переменную **first** первый (т.е. нулевой) элемент из списка **salaries**."
   ]
  },
  {
   "cell_type": "code",
   "execution_count": 13,
   "id": "288f896f-b426-4945-8cb9-991d61f40f5c",
   "metadata": {},
   "outputs": [],
   "source": [
    "salaries = [42, 100, 70, 80]\n",
    "first = salaries[0]"
   ]
  },
  {
   "cell_type": "markdown",
   "id": "ba92c11e-bafd-44c7-9bde-e61441cc8809",
   "metadata": {},
   "source": [
    "## Task 4\n",
    "Добавьте в уже созданный список users элементы 'Voronov' и 42."
   ]
  },
  {
   "cell_type": "code",
   "execution_count": 17,
   "id": "928d99f4-1318-494e-b9fd-1ab319ac498a",
   "metadata": {},
   "outputs": [],
   "source": [
    "users = ['John', 'Will', 'Jaden']\n",
    "users.extend(['Voronov', 42])"
   ]
  },
  {
   "cell_type": "markdown",
   "id": "98be8873-82cf-408d-b961-bba962f310ff",
   "metadata": {},
   "source": [
    "## Task 5\n",
    "В переменной user_ages содержится список возрастов клиентов. Напишите цикл, выводящий на печать элементы больше 18."
   ]
  },
  {
   "cell_type": "code",
   "execution_count": 21,
   "id": "28b38b91-670f-43a2-af78-c80654a1c8f5",
   "metadata": {},
   "outputs": [
    {
     "name": "stdout",
     "output_type": "stream",
     "text": [
      "21\n",
      "35\n",
      "42\n",
      "27\n"
     ]
    }
   ],
   "source": [
    "user_ages = [10, 18, 21, 35, 42, 27, 12, 16]\n",
    "for age in user_ages:\n",
    "    if age > 18: \n",
    "        print(age)"
   ]
  },
  {
   "cell_type": "markdown",
   "id": "650f5d19-2287-4f8a-885b-2446981d5982",
   "metadata": {},
   "source": [
    "## Task 6\n",
    "Напишите программу, проверяющую стаж работы сотрудника. В переменной worker уже содержится список, содержащий значения как во 2-м задании (имя, фамилия, зарплата, стаж). Поместите в переменную status следующую строку:\n",
    " - user_name user_family is position\n",
    "\n",
    "где user_name и user_family — имя и фамилия сотрудника, а position — одно из следующих значений:\n",
    "\n",
    " - 'junior' — стаж меньше 2 лет\n",
    " - 'middle' — стаж больше либо равен 2 лет и меньше или равен 5\n",
    " - 'senior' — стаж больше 5 лет "
   ]
  },
  {
   "cell_type": "code",
   "execution_count": 30,
   "id": "778e89a4-5807-4c4e-af28-12d23f374ffd",
   "metadata": {},
   "outputs": [
    {
     "data": {
      "text/plain": [
       "'Olya Silyutina is middle'"
      ]
     },
     "execution_count": 30,
     "metadata": {},
     "output_type": "execute_result"
    }
   ],
   "source": [
    "worker = ['Olya', 'Silyutina', 350000, 3]\n",
    "string = '{name} {family_name} is {position}'\n",
    "if worker[3] < 2: \n",
    "    status = string.format(name = worker[0], family_name = worker[1], position = 'junior')\n",
    "elif worker[3] >= 2 and worker[3] <= 5:\n",
    "    status = string.format(name = worker[0], family_name = worker[1], position = 'middle')\n",
    "else:\n",
    "    status = string.format(name = worker[0], family_name = worker[1], position = 'senior')\n",
    "status"
   ]
  },
  {
   "cell_type": "markdown",
   "id": "0b8f91c7-f627-4727-ba9a-dd3ec3146482",
   "metadata": {},
   "source": [
    "## Task 7\n",
    "В списке **values** содержатся числовые значения. Создайте список **tens** и добавьте в него все числа из values, которые делятся на 10 нацело."
   ]
  },
  {
   "cell_type": "code",
   "execution_count": 41,
   "id": "e5bc1e9b-dbd8-4aea-b051-d9d243077887",
   "metadata": {},
   "outputs": [
    {
     "data": {
      "text/plain": [
       "[10, 100, 20, 50, 160, 210]"
      ]
     },
     "execution_count": 41,
     "metadata": {},
     "output_type": "execute_result"
    }
   ],
   "source": [
    "values = [12, 134, 10, 47, 100, 20, 50, 160, 210]\n",
    "tens = [value for value in values if value%10 == 0]\n",
    "tens"
   ]
  },
  {
   "cell_type": "markdown",
   "id": "0808aeb2-4ddd-4f2a-ac65-706cc782f2ad",
   "metadata": {},
   "source": [
    "## Task 8\n",
    "Напишите программу, проверяющую стаж работы сотрудника. В переменной worker уже содержится список, содержащий значения как во 2-м задании (имя, фамилия, зарплата, стаж). Поместите в переменную status следующую строку:\n",
    "\n",
    " - user_name user_family is position\n",
    "\n",
    "где user_name и user_family — имя и фамилия сотрудника, а position — одно из следующих значений:\n",
    "\n",
    " - 'junior' — стаж меньше 2 лет\n",
    " - 'middle' — стаж больше либо равен 2 лет и меньше или равен 5\n",
    " - 'senior' — стаж больше 5 лет"
   ]
  },
  {
   "cell_type": "code",
   "execution_count": 43,
   "id": "37fbcc0c-3a89-44eb-8d8c-e7e2b4c3ed19",
   "metadata": {},
   "outputs": [
    {
     "name": "stdout",
     "output_type": "stream",
     "text": [
      "Ivan Ivanov is middle\n",
      "Petr Petrov is middle\n",
      "Sidor Sidorov is middle\n"
     ]
    }
   ],
   "source": [
    "workers = [['Ivan', 'Ivanov', 100000, 2], ['Petr', 'Petrov', 150000, 2], ['Sidor', 'Sidorov', 200000, 3]]\n",
    "for worker in workers: \n",
    "    if worker[3] < 2: \n",
    "        status = string.format(name = worker[0], family_name = worker[1], position = 'junior')\n",
    "    elif worker[3] >= 2 and worker[3] <= 5:\n",
    "        status = string.format(name = worker[0], family_name = worker[1], position = 'middle')\n",
    "    else:\n",
    "        status = string.format(name = worker[0], family_name = worker[1], position = 'senior')\n",
    "    print(status)"
   ]
  },
  {
   "cell_type": "markdown",
   "id": "73da274c-0a39-40aa-9ca0-763e64e2e55e",
   "metadata": {},
   "source": [
    "## Task 9\n",
    "Поместите в список lst числа от 0 (n = 0) до 10 включительно (N = 10) c шагом 2 (dn = 2). Для этого используйте условие while"
   ]
  },
  {
   "cell_type": "code",
   "execution_count": 48,
   "id": "e88715ab-b455-4eaf-a2ec-f0cf5698bcc8",
   "metadata": {},
   "outputs": [
    {
     "data": {
      "text/plain": [
       "[0, 2, 4, 6, 8, 10]"
      ]
     },
     "execution_count": 48,
     "metadata": {},
     "output_type": "execute_result"
    }
   ],
   "source": [
    "lst = []\n",
    "n = 0\n",
    "while n <= 10: \n",
    "    if n % 2 == 0:\n",
    "        lst.append(n)\n",
    "        n += 1\n",
    "    else:\n",
    "        n += 1\n",
    "lst"
   ]
  },
  {
   "cell_type": "markdown",
   "id": "a2452c78-bf04-420f-a109-0b041ad0e4a9",
   "metadata": {},
   "source": [
    "## Task 10"
   ]
  },
  {
   "cell_type": "code",
   "execution_count": 4,
   "id": "39d1e0f5-fb2e-4ef1-882a-95979875e5e5",
   "metadata": {},
   "outputs": [
    {
     "data": {
      "text/plain": [
       "{'name': 'Masha',\n",
       " 'surname': 'Volkova',\n",
       " 'age': '25',\n",
       " 'salary': '60000',\n",
       " 'position': 'junior'}"
      ]
     },
     "execution_count": 4,
     "metadata": {},
     "output_type": "execute_result"
    }
   ],
   "source": [
    "salaries_keys = ['name', 'surname', 'age', 'salary', 'position']\n",
    "salaries_values = ['Masha', 'Volkova', '25', '60000', 'junior']\n",
    "salaries_dict = dict(zip(salaries_keys, salaries_values))\n",
    "salaries_dict"
   ]
  },
  {
   "cell_type": "markdown",
   "id": "d6d411bc-0626-41c7-9fc3-da9273e4dc5d",
   "metadata": {},
   "source": [
    "## Task 11"
   ]
  },
  {
   "cell_type": "code",
   "execution_count": 9,
   "id": "0b51c606-7f8b-46a0-b488-89b26b5be9e7",
   "metadata": {},
   "outputs": [
    {
     "data": {
      "text/plain": [
       "{'mvolkova': {'name': 'Masha',\n",
       "  'surname': 'Volkova',\n",
       "  'age': 25,\n",
       "  'salary': 60000,\n",
       "  'position': 'junior'},\n",
       " 'pvoronov': {'name': 'Peter',\n",
       "  'surname': 'Voronov',\n",
       "  'age': 27,\n",
       "  'salary': 100000,\n",
       "  'position': 'junior'},\n",
       " 'pparker': {'name': 'Peter',\n",
       "  'surname': 'Parker',\n",
       "  'age': 35,\n",
       "  'salary': 150000,\n",
       "  'position': 'middle'},\n",
       " 'akarpov': {'name': 'Anatoly',\n",
       "  'surname': 'Karpov',\n",
       "  'age': 30,\n",
       "  'salary': 250000,\n",
       "  'position': 'senior'}}"
      ]
     },
     "execution_count": 9,
     "metadata": {},
     "output_type": "execute_result"
    }
   ],
   "source": [
    "logins = ['mvolkova','pvoronov','pparker','akarpov']\n",
    "names = ['Masha','Peter','Peter','Anatoly']\n",
    "surnames = ['Volkova', 'Voronov', 'Parker', 'Karpov']\n",
    "ages = [25, 27, 35, 30]\n",
    "salarys = [60000, 100000, 150000, 250000]\n",
    "positions = ['junior', 'junior', 'middle', 'senior']\n",
    "\n",
    "users_dict = {\n",
    "    logins[i]: \n",
    "        {'name' : names[i], 'surname': surnames[i], 'age': ages[i], 'salary': salarys[i], 'position': positions[i]} \n",
    "    for i in range(len(logins))\n",
    "}\n",
    "users_dict"
   ]
  }
 ],
 "metadata": {
  "kernelspec": {
   "display_name": "Python 3 (ipykernel)",
   "language": "python",
   "name": "python3"
  },
  "language_info": {
   "codemirror_mode": {
    "name": "ipython",
    "version": 3
   },
   "file_extension": ".py",
   "mimetype": "text/x-python",
   "name": "python",
   "nbconvert_exporter": "python",
   "pygments_lexer": "ipython3",
   "version": "3.9.6"
  }
 },
 "nbformat": 4,
 "nbformat_minor": 5
}
