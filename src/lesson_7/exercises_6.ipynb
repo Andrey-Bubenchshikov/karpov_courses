{
 "cells": [
  {
   "cell_type": "code",
   "execution_count": 3,
   "id": "e9e87d30-53c1-46a1-832f-7e275fe1ad3e",
   "metadata": {},
   "outputs": [],
   "source": [
    "from io import BytesIO\n",
    "import requests\n",
    "import pandas as pd\n",
    "import numpy as np"
   ]
  },
  {
   "cell_type": "code",
   "execution_count": 4,
   "id": "92b5684b-81f4-4961-aaf9-471132e413af",
   "metadata": {},
   "outputs": [],
   "source": [
    "req = requests.get('https://docs.google.com/spreadsheets/d/1e3PRXmMNXo9AZZnaol1aHgYxtH6KYaCDymEQlK6jaO8/export?format=csv')\n",
    "data = req.content\n",
    "\n",
    "# Put data into dataframe\n",
    "df = pd.read_csv(BytesIO(data))"
   ]
  },
  {
   "cell_type": "markdown",
   "id": "199eb220-0c9b-4a57-9a42-93fd98e07497",
   "metadata": {},
   "source": [
    "## Task 1"
   ]
  },
  {
   "cell_type": "code",
   "execution_count": 5,
   "id": "d71762df-0529-4d60-a3da-8281d1beca0a",
   "metadata": {},
   "outputs": [
    {
     "data": {
      "text/plain": [
       "1    41.0\n",
       "Name: users, dtype: float64"
      ]
     },
     "execution_count": 5,
     "metadata": {},
     "output_type": "execute_result"
    }
   ],
   "source": [
    "(\n",
    "    df\n",
    "    .query(\"gender == 'male'\")\n",
    "    .users.div(df.users.sum())\n",
    "    .multiply(100)\n",
    "    .round()\n",
    ")\n",
    "# answer - 41"
   ]
  },
  {
   "cell_type": "markdown",
   "id": "6c5e6bc4-e962-4498-9a09-0b842798aeb2",
   "metadata": {},
   "source": [
    "## Task 2\n"
   ]
  },
  {
   "cell_type": "code",
   "execution_count": 7,
   "id": "8a43c261-6eea-4ed6-aca0-3dd87a85d174",
   "metadata": {},
   "outputs": [],
   "source": [
    "df = pd.read_csv('7_browser.csv')\n",
    "chrome_robots = (\n",
    "    df\n",
    "    .assign(chrome_robots = np.where((df.user_type == 'Robots') & (df.browser.str.contains('Chrome')), 1, 0))\n",
    "    .chrome_robots\n",
    ")\n",
    "\n",
    "    "
   ]
  },
  {
   "cell_type": "markdown",
   "id": "6117ee19-a029-4c98-8a39-7817c45a8528",
   "metadata": {},
   "source": [
    "## Task 3\n"
   ]
  },
  {
   "cell_type": "code",
   "execution_count": 49,
   "id": "a657961a-c8e9-4b68-beb8-5ab70235f27e",
   "metadata": {},
   "outputs": [],
   "source": [
    "df = pd.read_csv('sample_ads.csv')\n",
    "\n",
    "not_nan_count = df.click_type.notna().sum()"
   ]
  },
  {
   "cell_type": "markdown",
   "id": "6999e333-aac1-452e-b522-d19f3ed6156a",
   "metadata": {},
   "source": [
    "## Task 4"
   ]
  },
  {
   "cell_type": "code",
   "execution_count": 9,
   "id": "7c13da1e-9d68-4ba1-8054-823c8e2e9e85",
   "metadata": {},
   "outputs": [],
   "source": [
    "lst = [1, 2, 'test2', 4, '5', 'test']\n",
    "new_list = []\n",
    "for i in lst:\n",
    "    try:\n",
    "        new_i = int(i)\n",
    "        new_list.append(new_i)\n",
    "    except:\n",
    "        'not number cannot convert'"
   ]
  },
  {
   "cell_type": "markdown",
   "id": "4633c46d-1957-46f9-b7e8-d90a0a9f7885",
   "metadata": {},
   "source": [
    "## Task 5"
   ]
  },
  {
   "cell_type": "code",
   "execution_count": 68,
   "id": "d402cf34-bc23-4194-a613-ee14de4e39e2",
   "metadata": {},
   "outputs": [],
   "source": [
    "import requests\n",
    "import json\n",
    "from urllib.parse import urlencode\n",
    "\n",
    "\n",
    "token = '5795301246:AAE6Gjp5DY_fMBPWmTVOgVveYGv6P2UYFdY'\n",
    "chat_id = 279633861\n",
    "\n",
    "message = 'Wake the fuck up samurai!'  # text which you want to send\n",
    "\n",
    "params = {'chat_id': chat_id, 'text': message}\n",
    "\n",
    "base_url = f'https://api.telegram.org/bot{token}/'\n",
    "url = base_url + 'sendMessage?' + urlencode(params)\n",
    "\n",
    "resp = requests.get(url)\n",
    "# answer - @kc_da_bot\n",
    "\n"
   ]
  },
  {
   "cell_type": "code",
   "execution_count": null,
   "id": "c0c7ac9d-7bab-4b25-a966-af3cca5d45f0",
   "metadata": {},
   "outputs": [],
   "source": []
  }
 ],
 "metadata": {
  "kernelspec": {
   "display_name": "Python 3 (ipykernel)",
   "language": "python",
   "name": "python3"
  },
  "language_info": {
   "codemirror_mode": {
    "name": "ipython",
    "version": 3
   },
   "file_extension": ".py",
   "mimetype": "text/x-python",
   "name": "python",
   "nbconvert_exporter": "python",
   "pygments_lexer": "ipython3",
   "version": "3.9.6"
  }
 },
 "nbformat": 4,
 "nbformat_minor": 5
}
