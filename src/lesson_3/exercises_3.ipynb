{
 "cells": [
  {
   "cell_type": "code",
   "execution_count": 2,
   "id": "6387770f-3f08-4aff-8474-ed757b992307",
   "metadata": {},
   "outputs": [],
   "source": [
    "import pandas as pd"
   ]
  },
  {
   "cell_type": "markdown",
   "id": "06a0ad18-2178-4486-bda5-bf5f207283cf",
   "metadata": {},
   "source": [
    "## Task 1 \n",
    "Поместите в переменную names_list список со строками имён – ['Name1 Surname1', 'Name2 Surname2', …]"
   ]
  },
  {
   "cell_type": "code",
   "execution_count": 3,
   "id": "ab14ed92-cb01-4d1c-beff-214cabb91fc9",
   "metadata": {},
   "outputs": [],
   "source": [
    "names = 'Name1 Surname1, Name2 Surname2'\n",
    "names_list = names.split(',') # answer"
   ]
  },
  {
   "cell_type": "markdown",
   "id": "68981cf5-49d8-48a6-90e6-593e5a75750f",
   "metadata": {},
   "source": [
    "## Task 2\n",
    "В переменной df содержатся данные такого вида: \n",
    "\n",
    "clint | sex | wealth | age  \n",
    "9002  |  1  | medium | 63  \n",
    "6722  |  1  | high   | 54  \n",
    "8799  |  1  | high   | 62  \n",
    "8737  |  0  | low    | 54  \n",
    "5206  |  0  | medium | 37  \n",
    "\n",
    "\n",
    "Отберите из них только те, где wealth принимает значение 'medium', а возраст составляет больше 35.\n",
    "Поместите результат в переменную medium_35"
   ]
  },
  {
   "cell_type": "code",
   "execution_count": 16,
   "id": "dae150fb-6587-4945-a753-6ed4b0a85bd6",
   "metadata": {},
   "outputs": [],
   "source": [
    "df = pd.DataFrame({'client': [9002, 6722, 8799, 8737, 5206], \n",
    "                   'sex': [1, 1, 1, 0, 0], \n",
    "                   'wealth': ['medium', 'high', 'high', 'low', 'medium'],\n",
    "                   'age' : [63, 54, 62, 54, 37]})\n",
    "medium_35 = df.query(\"wealth == 'medium' and age > 35\") #answer"
   ]
  },
  {
   "cell_type": "markdown",
   "id": "1ec00bb7-cbc6-4200-8e8d-5f740be2a0b3",
   "metadata": {},
   "source": [
    "## Task 3\n",
    "Воспользуйтесь методом rename и приведите таблицу к более каноничному виду, сохранив её в ту же самую переменную df"
   ]
  },
  {
   "cell_type": "code",
   "execution_count": 3,
   "id": "5fa6ae69-84b0-427b-975f-1cdec53da1f4",
   "metadata": {},
   "outputs": [],
   "source": [
    "df = pd.DataFrame({'Клиент id' : [1, 1], 'Пол': [1, 1], 'Благосостояние': [1, 1], 'Возраст': [1, 1]})\n",
    "df.rename(columns = {'Клиент id' : 'client_id', 'Пол': 'sex', 'Благосостояние': 'wealth', 'Возраст': 'age'}, inplace=True) #answer"
   ]
  },
  {
   "cell_type": "markdown",
   "id": "8e8c67fc-545e-4c35-8022-de998d17d845",
   "metadata": {},
   "source": [
    "## Task 4\n",
    "Добавьте в исследуемый нами датафрэйм df колонку older_than_30, в которой будет информация превышает ли значение переменной возраста 30 лет или нет (булево значение)"
   ]
  },
  {
   "cell_type": "code",
   "execution_count": 5,
   "id": "7a98ac35-60ee-45c6-8f38-518e22dd6ba1",
   "metadata": {},
   "outputs": [],
   "source": [
    "df = pd.DataFrame({'client': [9002, 6722, 8799, 8737, 5206], \n",
    "                   'sex': [1, 1, 1, 0, 0], \n",
    "                   'wealth': ['medium', 'high', 'high', 'low', 'medium'],\n",
    "                   'age' : [63, 54, 62, 54, 37]})\n",
    "\n",
    "df['older_than_30'] = df.age > 30 #answer"
   ]
  },
  {
   "cell_type": "markdown",
   "id": "7993cd7c-eff6-4099-aeec-1018eb8bb2d0",
   "metadata": {},
   "source": [
    "## Task 5\n",
    "А теперь получите серию с числом уникальных значений для каждой колонки и присвойте её переменной unique_num"
   ]
  },
  {
   "cell_type": "code",
   "execution_count": 7,
   "id": "411d808c-c72c-430a-bb19-667bdb32d19f",
   "metadata": {},
   "outputs": [],
   "source": [
    "df = pd.DataFrame({'client': [9002, 6722, 8799, 8737, 5206], \n",
    "                   'sex': [1, 1, 1, 0, 0], \n",
    "                   'wealth': ['medium', 'high', 'high', 'low', 'medium'],\n",
    "                   'age' : [63, 54, 62, 54, 37]})\n",
    "unique_num = df.apply('nunique') #answer"
   ]
  },
  {
   "cell_type": "markdown",
   "id": "f7fa884a-4f33-42e2-8586-085f03235821",
   "metadata": {},
   "source": [
    "## Task 6 \n",
    "Проведите inner join датафрейма data с df из предыдущего шага, объединив их по колонке client_id, и поместите результат в переменную full_data (да, придумывать названия переменных иногда бывает сложно)"
   ]
  },
  {
   "cell_type": "code",
   "execution_count": 250,
   "id": "1e4a05a9-35fc-4871-92c1-b125608bc107",
   "metadata": {},
   "outputs": [],
   "source": [
    "df = pd.DataFrame({'client': [9002, 6722, 8799, 8737, 5206], \n",
    "                   'sex': [1, 1, 1, 0, 0], \n",
    "                   'wealth': ['medium', 'high', 'high', 'low', 'medium'],\n",
    "                   'age' : [63, 54, 62, 54, 37]})\n",
    "\n",
    "data = pd.DataFrame({'client': [5392, 9581, 7250, 8619, 6573], \n",
    "                     'amount': [1, 1, 1, 0, 0], \n",
    "                     'date': ['medium', 'high', 'high', 'low', 'medium']})\n",
    "\n",
    "full_data = df.merge(data, how = 'inner', on = 'client') #answer\n"
   ]
  },
  {
   "cell_type": "markdown",
   "id": "82cf1d0f-fb5b-4db9-8d5b-be49457f4313",
   "metadata": {},
   "source": [
    "## Task 7 \n",
    "Теперь давайте создадим собственную функцию. Напишите функцию read_n_agg, которая:\n",
    "\n",
    " 1. принимает на вход один параметр – путь к файлу\n",
    " 2. при помощи переданного пути, считывает файл, в котором разделителем является ;\n",
    " 3. считает средний заработок (income) по каждой компании (company), перенося колонку company в индекс (as_index=True)\n",
    " 4. возвращает результат этих действий (агрегированный датафрэйм)\n"
   ]
  },
  {
   "cell_type": "code",
   "execution_count": 29,
   "id": "8d9fe3bc-c185-4bff-aeac-997a492d935b",
   "metadata": {},
   "outputs": [],
   "source": [
    "def read_n_agg(path_to_file):\n",
    "    \n",
    "    companies = pd.read_csv(filepath_or_buffer=path_to_file, sep=';')\n",
    "    avg_company = (\n",
    "        companies\n",
    "        .groupby('company', as_index=True)\n",
    "        .agg({'income': 'mean'})\n",
    "    )\n",
    "    \n",
    "    return avg_company\n",
    "# answer is the function"
   ]
  },
  {
   "cell_type": "code",
   "execution_count": 30,
   "id": "5856e9d1-5b9b-4335-b052-12a5abb1257e",
   "metadata": {},
   "outputs": [
    {
     "data": {
      "text/html": [
       "<div>\n",
       "<style scoped>\n",
       "    .dataframe tbody tr th:only-of-type {\n",
       "        vertical-align: middle;\n",
       "    }\n",
       "\n",
       "    .dataframe tbody tr th {\n",
       "        vertical-align: top;\n",
       "    }\n",
       "\n",
       "    .dataframe thead th {\n",
       "        text-align: right;\n",
       "    }\n",
       "</style>\n",
       "<table border=\"1\" class=\"dataframe\">\n",
       "  <thead>\n",
       "    <tr style=\"text-align: right;\">\n",
       "      <th></th>\n",
       "      <th>income</th>\n",
       "    </tr>\n",
       "    <tr>\n",
       "      <th>company</th>\n",
       "      <th></th>\n",
       "    </tr>\n",
       "  </thead>\n",
       "  <tbody>\n",
       "    <tr>\n",
       "      <th>En +</th>\n",
       "      <td>9.962187e+10</td>\n",
       "    </tr>\n",
       "    <tr>\n",
       "      <th>АО «Александрова, Савельев и Мельникова»</th>\n",
       "      <td>7.206782e+10</td>\n",
       "    </tr>\n",
       "    <tr>\n",
       "      <th>АО «Андреев-Анисимов»</th>\n",
       "      <td>6.931948e+09</td>\n",
       "    </tr>\n",
       "    <tr>\n",
       "      <th>АО «Андреев-Макарова»</th>\n",
       "      <td>8.934380e+10</td>\n",
       "    </tr>\n",
       "    <tr>\n",
       "      <th>АО «Большаков Кошелева»</th>\n",
       "      <td>7.860861e+10</td>\n",
       "    </tr>\n",
       "    <tr>\n",
       "      <th>...</th>\n",
       "      <td>...</td>\n",
       "    </tr>\n",
       "    <tr>\n",
       "      <th>Щекиноазот</th>\n",
       "      <td>4.309092e+10</td>\n",
       "    </tr>\n",
       "    <tr>\n",
       "      <th>Щукин Лимитед</th>\n",
       "      <td>6.703036e+10</td>\n",
       "    </tr>\n",
       "    <tr>\n",
       "      <th>Эйвон Бьюти Продактс Компани (Avon)</th>\n",
       "      <td>2.503657e+10</td>\n",
       "    </tr>\n",
       "    <tr>\n",
       "      <th>Яковлева Инкорпорэйтед</th>\n",
       "      <td>3.523436e+10</td>\n",
       "    </tr>\n",
       "    <tr>\n",
       "      <th>Якушев Лимитед</th>\n",
       "      <td>3.876468e+10</td>\n",
       "    </tr>\n",
       "  </tbody>\n",
       "</table>\n",
       "<p>289 rows × 1 columns</p>\n",
       "</div>"
      ],
      "text/plain": [
       "                                                income\n",
       "company                                               \n",
       "En +                                      9.962187e+10\n",
       "АО «Александрова, Савельев и Мельникова»  7.206782e+10\n",
       "АО «Андреев-Анисимов»                     6.931948e+09\n",
       "АО «Андреев-Макарова»                     8.934380e+10\n",
       "АО «Большаков Кошелева»                   7.860861e+10\n",
       "...                                                ...\n",
       "Щекиноазот                                4.309092e+10\n",
       "Щукин Лимитед                             6.703036e+10\n",
       "Эйвон Бьюти Продактс Компани (Avon)       2.503657e+10\n",
       "Яковлева Инкорпорэйтед                    3.523436e+10\n",
       "Якушев Лимитед                            3.876468e+10\n",
       "\n",
       "[289 rows x 1 columns]"
      ]
     },
     "execution_count": 30,
     "metadata": {},
     "output_type": "execute_result"
    }
   ],
   "source": [
    "path = '3_companies.csv'\n",
    "read_n_agg(path)"
   ]
  },
  {
   "cell_type": "markdown",
   "id": "156ec7ae-1908-4f39-8c57-a642f48a0cf1",
   "metadata": {},
   "source": [
    "## Task 8 \n",
    "Импортируйте pandas как pd. В данном задании ссылка на датасет находится в переменной path_to_file. \n",
    "Загрузите датасет, используя ; в качестве разделителя. \n",
    "\n",
    "Также укажите, что столбцы start_at, end_at, arrived_at нужно прочитать как даты (параметр parse_dates). \n",
    "Результат запишите в переменную taxi."
   ]
  },
  {
   "cell_type": "code",
   "execution_count": 31,
   "id": "6d900cc9-7ea7-4464-b7bd-2480cca115b3",
   "metadata": {},
   "outputs": [],
   "source": [
    "path_to_file = '3_taxi_peru.csv'"
   ]
  },
  {
   "cell_type": "code",
   "execution_count": 37,
   "id": "cd813b52-dea4-44cf-b58a-5bb088fd31ad",
   "metadata": {},
   "outputs": [],
   "source": [
    "import pandas as pd \n",
    "taxi = pd.read_csv(filepath_or_buffer=path_to_file, sep=';', parse_dates=['start_at', 'end_at', 'arrived_at'])\n",
    "# answer"
   ]
  },
  {
   "cell_type": "markdown",
   "id": "e1bee1c0-6142-4415-b1e4-435c54d4297a",
   "metadata": {},
   "source": [
    "## Task 9\n",
    "Проверьте, с какой платформы было сделано больше всего заказов. В ответе укажите значение в %, округлённое до целого"
   ]
  },
  {
   "cell_type": "code",
   "execution_count": 123,
   "id": "d9a36951-7539-4e31-9d72-d96f1e0c879c",
   "metadata": {},
   "outputs": [
    {
     "data": {
      "text/html": [
       "<div>\n",
       "<style scoped>\n",
       "    .dataframe tbody tr th:only-of-type {\n",
       "        vertical-align: middle;\n",
       "    }\n",
       "\n",
       "    .dataframe tbody tr th {\n",
       "        vertical-align: top;\n",
       "    }\n",
       "\n",
       "    .dataframe thead th {\n",
       "        text-align: right;\n",
       "    }\n",
       "</style>\n",
       "<table border=\"1\" class=\"dataframe\">\n",
       "  <thead>\n",
       "    <tr style=\"text-align: right;\">\n",
       "      <th></th>\n",
       "      <th>source</th>\n",
       "      <th>journey_id</th>\n",
       "    </tr>\n",
       "  </thead>\n",
       "  <tbody>\n",
       "    <tr>\n",
       "      <th>3</th>\n",
       "      <td>iPhone</td>\n",
       "      <td>42.0</td>\n",
       "    </tr>\n",
       "    <tr>\n",
       "      <th>4</th>\n",
       "      <td>web</td>\n",
       "      <td>33.0</td>\n",
       "    </tr>\n",
       "    <tr>\n",
       "      <th>0</th>\n",
       "      <td>Android</td>\n",
       "      <td>21.0</td>\n",
       "    </tr>\n",
       "    <tr>\n",
       "      <th>2</th>\n",
       "      <td>iPad</td>\n",
       "      <td>2.0</td>\n",
       "    </tr>\n",
       "    <tr>\n",
       "      <th>1</th>\n",
       "      <td>Wap</td>\n",
       "      <td>1.0</td>\n",
       "    </tr>\n",
       "  </tbody>\n",
       "</table>\n",
       "</div>"
      ],
      "text/plain": [
       "    source  journey_id\n",
       "3   iPhone        42.0\n",
       "4      web        33.0\n",
       "0  Android        21.0\n",
       "2     iPad         2.0\n",
       "1      Wap         1.0"
      ]
     },
     "execution_count": 123,
     "metadata": {},
     "output_type": "execute_result"
    }
   ],
   "source": [
    "(\n",
    "    taxi\n",
    "     .groupby('source')\n",
    "     .agg({'journey_id' : 'count'})\n",
    "     .transform(lambda x: x/x.sum())\n",
    "     .mul(100).round()\n",
    "     .reset_index()\n",
    "     .sort_values(by = 'journey_id', ascending=False)\n",
    ")\n",
    "# answer - 42\n"
   ]
  },
  {
   "cell_type": "markdown",
   "id": "35bfd56b-85b6-4c0c-a0b3-205ac9452816",
   "metadata": {},
   "source": [
    "## Task 10\n",
    "\n",
    "Агрегируйте данные и постройте барчарт, где по оси x будет расположено название платформы (source), а по оси y – количество заказов (абсолютные значения).\n",
    "\n",
    "Какой график получился?"
   ]
  },
  {
   "cell_type": "code",
   "execution_count": 100,
   "id": "4e0d7bba-3afd-4984-9eaa-4daa0d419522",
   "metadata": {},
   "outputs": [
    {
     "data": {
      "text/plain": [
       "<AxesSubplot: xlabel='source', ylabel='journey_id'>"
      ]
     },
     "execution_count": 100,
     "metadata": {},
     "output_type": "execute_result"
    },
    {
     "data": {
      "image/png": "[encoded data removed]",
      "text/plain": [
       "<Figure size 640x480 with 1 Axes>"
      ]
     },
     "metadata": {},
     "output_type": "display_data"
    }
   ],
   "source": [
    "import seaborn as sns\n",
    "count_by_platform = (\n",
    "    taxi\n",
    "     .groupby('source')\n",
    "     .agg({'journey_id' : 'count'})\n",
    "     .transform(lambda x: round(x/x.sum()*100))\n",
    "     .reset_index()\n",
    "     .sort_values(by = 'journey_id', ascending=False)\n",
    ")\n",
    "sns.barplot(count_by_platform, x=\"source\", y=\"journey_id\")\n",
    "# answer - C"
   ]
  },
  {
   "cell_type": "markdown",
   "id": "7c3fd2c9-91e6-4c98-b95a-a958c347d1fb",
   "metadata": {},
   "source": [
    "## Task 11 \n",
    "Альтернативный вариант построения распределения категориальной переменной – sns.countplot. В качестве единственного аргумента можно передать всего одну колонку: например, source, а количество значений для оси y функция посчитает самостоятельно.\n",
    "\n",
    "Используйте данный тип графика и проверьте, какой тип поездки (icon) встречался чаще всего"
   ]
  },
  {
   "cell_type": "code",
   "execution_count": 108,
   "id": "270f8451-c222-4e74-8fba-cb165f6ca4c8",
   "metadata": {},
   "outputs": [
    {
     "data": {
      "text/plain": [
       "<AxesSubplot: xlabel='icon', ylabel='count'>"
      ]
     },
     "execution_count": 108,
     "metadata": {},
     "output_type": "execute_result"
    },
    {
     "data": {
      "image/png": "[encoded data removed]",
      "text/plain": [
       "<Figure size 640x480 with 1 Axes>"
      ]
     },
     "metadata": {},
     "output_type": "display_data"
    }
   ],
   "source": [
    "sns.countplot(data = taxi, x = 'icon')\n",
    "# answer - executive"
   ]
  },
  {
   "cell_type": "markdown",
   "id": "b4d3acb6-bf69-4041-a5b4-00f2ffd2e1f3",
   "metadata": {},
   "source": [
    "## Task 12\n",
    "С помощью sns.countplot и параметра hue визуализируйте распределение переменной end_state (итоговое состояние заказа) в разбивке по платформам (source)."
   ]
  },
  {
   "cell_type": "code",
   "execution_count": 112,
   "id": "3051be30-1bfa-4158-9c17-7c3278ae55fd",
   "metadata": {},
   "outputs": [
    {
     "data": {
      "text/plain": [
       "<AxesSubplot: xlabel='source', ylabel='count'>"
      ]
     },
     "execution_count": 112,
     "metadata": {},
     "output_type": "execute_result"
    },
    {
     "data": {
      "image/png": "[encoded data removed]",
      "text/plain": [
       "<Figure size 640x480 with 1 Axes>"
      ]
     },
     "metadata": {},
     "output_type": "display_data"
    }
   ],
   "source": [
    "sns.countplot(data = taxi, x = 'source', hue = 'end_state')\n",
    "# answer \n",
    "# 1 - Больше всего заказов со статусом drop off совершено с платформы iPhone\n",
    "# 2 - На Android количество отмененных поездок (rider cancel) меньше, чем на iPhone\n",
    "# 3 - Наибольшая разница между количеством drop off и rider cancel наблюдается для платформы iPhone"
   ]
  },
  {
   "cell_type": "markdown",
   "id": "65c0c9f4-f332-418a-ae49-4d9f922c7de3",
   "metadata": {},
   "source": [
    "## Task 13\n",
    "Проверим, как распределены оценки водителей (driver_score). Для подготовки данных выполните следующие шаги:\n",
    "\n",
    " 1. Посчитайте частоту встречаемости каждой из оценок\n",
    " 2. Переведите в проценты и округлите до 2 знаков после точки (.mul(100).round(2))\n",
    " 3. Сбросьте индексы\n",
    " 4. Переименуйте колонки в driver_score и percentage\n",
    " 5. Отсортируйте по driver_score в порядке возрастания (от 0 до 5)\n",
    " 6. Запишите результат в driver_score_counts"
   ]
  },
  {
   "cell_type": "code",
   "execution_count": 245,
   "id": "08185c10-9ff2-469a-8e90-d74e71d667e7",
   "metadata": {},
   "outputs": [],
   "source": [
    "driver_score_counts = (\n",
    "    taxi\n",
    "     .groupby('driver_score', as_index=False)\n",
    "     .agg(journeys = ('journey_id', 'count'))\n",
    "     .assign(total_journeys = lambda x: x.journeys/x.journeys.sum(),\n",
    "             percentage = lambda x: x.total_journeys.mul(100).round(2))\n",
    "     .filter(items=['driver_score', 'percentage'])\n",
    "     .sort_values(by = 'driver_score')\n",
    ")"
   ]
  },
  {
   "cell_type": "markdown",
   "id": "103d2f47-cd5d-4351-80b8-7e07070f2bf3",
   "metadata": {},
   "source": [
    "## Task 14\n",
    "\n",
    "Укажите, какую из четырех строчек в нижепредставленном коде нужно исправить, чтобы получить следующий график:\n",
    "\n",
    "```\n",
    "ax = sns.barplot(x=driver_score, y=percentage, data=driver_score_counts, color='blue', alpha=0.5)\n",
    "ax.set(xlabel='Driver score', ylabel='Percentage')\n",
    "sns.despine()  # убрать часть рамки графика\n",
    "```"
   ]
  },
  {
   "cell_type": "code",
   "execution_count": 242,
   "id": "5914a692-6448-40aa-83a8-29b6c7a9e497",
   "metadata": {},
   "outputs": [
    {
     "data": {
      "image/png": "[encoded data removed]",
      "text/plain": [
       "<Figure size 640x480 with 1 Axes>"
      ]
     },
     "metadata": {},
     "output_type": "display_data"
    }
   ],
   "source": [
    "import seaborn as sns\n",
    "import matplotlib.pyplot as plt\n",
    "\n",
    "ax = sns.barplot(x='driver_score', y='percentage', data=driver_score_counts, color='blue', alpha=0.5)\n",
    "ax.set(xlabel='Driver score', ylabel='Percentage')\n",
    "sns.despine()  # убрать часть рамки графика\n",
    "\n",
    "# убрать первую строку\n",
    "# answer - 1"
   ]
  },
  {
   "cell_type": "markdown",
   "id": "295c5975-4e8b-4fb3-90f8-e919749809b1",
   "metadata": {},
   "source": [
    "## Task 15"
   ]
  },
  {
   "cell_type": "code",
   "execution_count": 249,
   "id": "d734b12c-6ac3-41ef-aad6-b44fb79cd509",
   "metadata": {},
   "outputs": [
    {
     "data": {
      "image/png": "[encoded data removed]",
      "text/plain": [
       "<Figure size 640x480 with 1 Axes>"
      ]
     },
     "metadata": {},
     "output_type": "display_data"
    }
   ],
   "source": [
    "rider_score_counts = (\n",
    "    taxi\n",
    "     .groupby('rider_score', as_index=False)\n",
    "     .agg(journeys = ('journey_id', 'count'))\n",
    "     .assign(total_journeys = lambda x: x.journeys/x.journeys.sum(),\n",
    "             percentage = lambda x: x.total_journeys.mul(100).round(2))\n",
    "     .filter(items=['rider_score', 'percentage'])\n",
    "     .sort_values(by = 'rider_score')\n",
    ")\n",
    "\n",
    "ax = sns.barplot(x='rider_score', y='percentage', data=rider_score_counts, color='blue', alpha=0.5)\n",
    "ax.set(xlabel='Rider score', ylabel='Percentage')\n",
    "sns.despine()  # убрать часть рамки графика\n",
    "\n",
    "# answer \n",
    "# 1. Водители ставят больше 0, чем клиенты\n",
    "# 2. "
   ]
  },
  {
   "cell_type": "code",
   "execution_count": null,
   "id": "f2eab54e-3696-4d46-ab6f-c0b2533c7d44",
   "metadata": {},
   "outputs": [],
   "source": []
  }
 ],
 "metadata": {
  "kernelspec": {
   "display_name": "Python 3 (ipykernel)",
   "language": "python",
   "name": "python3"
  },
  "language_info": {
   "codemirror_mode": {
    "name": "ipython",
    "version": 3
   },
   "file_extension": ".py",
   "mimetype": "text/x-python",
   "name": "python",
   "nbconvert_exporter": "python",
   "pygments_lexer": "ipython3",
   "version": "3.9.6"
  }
 },
 "nbformat": 4,
 "nbformat_minor": 5
}
