{
 "cells": [
  {
   "cell_type": "code",
   "execution_count": 35,
   "id": "06e0c099-75fe-4054-802c-d811917f9fb3",
   "metadata": {},
   "outputs": [],
   "source": [
    "path_to_file = 'data.csv'"
   ]
  },
  {
   "cell_type": "markdown",
   "id": "de3cc7eb-01b7-442d-9777-8f23c314ae85",
   "metadata": {},
   "source": [
    "## Task 1\n",
    "Импортируйте пандас и прочитайте данные с кодировкой ISO-8859-1. Запишите полученный датафрейм в retail, а названия колонок сохраните в переменную retail_columns."
   ]
  },
  {
   "cell_type": "code",
   "execution_count": 46,
   "id": "e2ac2528-4a10-4dd2-9328-b003711de404",
   "metadata": {},
   "outputs": [],
   "source": [
    "import pandas as pd\n",
    "retail = pd.read_csv(path_to_file, encoding='ISO-8859-1')\n",
    "retail_columns = retail.columns"
   ]
  },
  {
   "cell_type": "markdown",
   "id": "e4f32abb-c312-484c-962d-ecdda90859cc",
   "metadata": {},
   "source": [
    "## Task 2\n",
    "Проверьте, встречаются ли в данных повторяющиеся наблюдения, и в качестве ответа укажите их количество. Если они есть, то удалите их из retail.\n",
    "\n"
   ]
  },
  {
   "cell_type": "code",
   "execution_count": 47,
   "id": "909c5d44-8533-4a71-af1b-8c9efbd508ce",
   "metadata": {},
   "outputs": [
    {
     "name": "stdout",
     "output_type": "stream",
     "text": [
      "5268\n"
     ]
    }
   ],
   "source": [
    "print(retail[retail.duplicated()].shape[0])\n",
    "retail = retail.drop_duplicates()"
   ]
  },
  {
   "cell_type": "markdown",
   "id": "be48c01b-764c-4238-8a78-cd426cb402af",
   "metadata": {},
   "source": [
    "## Task 3"
   ]
  },
  {
   "cell_type": "code",
   "execution_count": 48,
   "id": "2a28de9f-dbde-4179-b70b-c511ccce7ddb",
   "metadata": {},
   "outputs": [
    {
     "data": {
      "text/plain": [
       "9251"
      ]
     },
     "execution_count": 48,
     "metadata": {},
     "output_type": "execute_result"
    }
   ],
   "source": [
    "(\n",
    "    retail\n",
    "     .query(\"InvoiceNo.str.startswith('C')\")\n",
    "     .shape[0]\n",
    ")    "
   ]
  },
  {
   "cell_type": "markdown",
   "id": "b98bc49f-fe0a-4829-96a5-b2cd2251b1f2",
   "metadata": {},
   "source": [
    "## Task 4"
   ]
  },
  {
   "cell_type": "code",
   "execution_count": 49,
   "id": "919b62bf-78bd-4802-ae27-0cd67044cbb6",
   "metadata": {},
   "outputs": [
    {
     "data": {
      "text/plain": [
       "526054"
      ]
     },
     "execution_count": 49,
     "metadata": {},
     "output_type": "execute_result"
    }
   ],
   "source": [
    "(\n",
    "    retail\n",
    "     .query(\"Quantity > 0\")\n",
    "     .shape[0]\n",
    ")    "
   ]
  },
  {
   "cell_type": "markdown",
   "id": "47793b99-0096-47cf-b8e8-136939802600",
   "metadata": {},
   "source": [
    "## Task 5"
   ]
  },
  {
   "cell_type": "code",
   "execution_count": 63,
   "id": "90b3e767-a862-4e19-bd15-4d91cddefc69",
   "metadata": {},
   "outputs": [],
   "source": [
    "germany_top = (\n",
    "    retail\n",
    "     .query(\"Country == 'Germany'\")\n",
    "     .groupby(\"CustomerID\", as_index=False)\n",
    "     .agg(orders = (\"InvoiceNo\", \"nunique\"))\n",
    "     .query(\"orders > orders.quantile(0.8)\")\n",
    "     .CustomerID\n",
    ")\n",
    "\n"
   ]
  },
  {
   "cell_type": "markdown",
   "id": "9599d26c-ee4e-4598-8c26-40ae709a56ae",
   "metadata": {},
   "source": [
    "## Task 6"
   ]
  },
  {
   "cell_type": "code",
   "execution_count": 66,
   "id": "5ecdb6f3-e3e7-4530-bd0f-6f3829942caf",
   "metadata": {},
   "outputs": [],
   "source": [
    "top_retail_germany = (\n",
    "    retail\n",
    "     .query(\"CustomerID in @germany_top\")\n",
    ")"
   ]
  },
  {
   "cell_type": "markdown",
   "id": "448e58bd-500e-4818-ba30-e28e745a2f51",
   "metadata": {},
   "source": [
    "## Task 7"
   ]
  },
  {
   "cell_type": "code",
   "execution_count": 86,
   "id": "7004deef-43c1-49b1-a73f-75d248124252",
   "metadata": {},
   "outputs": [
    {
     "data": {
      "text/plain": [
       "22326    62\n",
       "Name: StockCode, dtype: int64"
      ]
     },
     "execution_count": 86,
     "metadata": {},
     "output_type": "execute_result"
    }
   ],
   "source": [
    "(\n",
    "    top_retail_germany\n",
    "     .query(\"StockCode != 'POST'\")\n",
    "     .StockCode\n",
    "     .value_counts()\n",
    "     .head(1)\n",
    ")"
   ]
  },
  {
   "cell_type": "markdown",
   "id": "ce3c942a-67e8-4258-8900-d18b8ca1d99c",
   "metadata": {},
   "source": [
    "## Task 8 "
   ]
  },
  {
   "cell_type": "code",
   "execution_count": 92,
   "id": "ce224bf7-4ad0-4c14-9123-fa149e99c01f",
   "metadata": {},
   "outputs": [],
   "source": [
    "retail['Revenue'] = retail.Quantity.mul(retail.UnitPrice)"
   ]
  },
  {
   "cell_type": "markdown",
   "id": "71cea672-3cd2-4b88-93fd-deeeb1e83f14",
   "metadata": {},
   "source": [
    "## Task 9"
   ]
  },
  {
   "cell_type": "code",
   "execution_count": 107,
   "id": "3e82eea2-db49-44de-a3ce-0c1b45212633",
   "metadata": {},
   "outputs": [
    {
     "data": {
      "text/plain": [
       "'581483, 541431, 574941, 576365, 556444, 567423, 556917, 572209, 567381, 563614'"
      ]
     },
     "execution_count": 107,
     "metadata": {},
     "output_type": "execute_result"
    }
   ],
   "source": [
    "invoices = (\n",
    "    retail\n",
    "     .groupby(\"InvoiceNo\", as_index=False)\n",
    "     .agg(TotalRevenue = (\"Revenue\", \"sum\"))\n",
    "     .sort_values('TotalRevenue', ascending=False)\n",
    "     .head(10)\n",
    "     .InvoiceNo.to_list()\n",
    ")\n",
    "\n",
    "', '.join(invoices)"
   ]
  },
  {
   "cell_type": "code",
   "execution_count": null,
   "id": "cb9c101f-17ba-4b17-8fdf-36a4a99c9185",
   "metadata": {},
   "outputs": [],
   "source": []
  }
 ],
 "metadata": {
  "kernelspec": {
   "display_name": "Python 3 (ipykernel)",
   "language": "python",
   "name": "python3"
  },
  "language_info": {
   "codemirror_mode": {
    "name": "ipython",
    "version": 3
   },
   "file_extension": ".py",
   "mimetype": "text/x-python",
   "name": "python",
   "nbconvert_exporter": "python",
   "pygments_lexer": "ipython3",
   "version": "3.9.6"
  }
 },
 "nbformat": 4,
 "nbformat_minor": 5
}
