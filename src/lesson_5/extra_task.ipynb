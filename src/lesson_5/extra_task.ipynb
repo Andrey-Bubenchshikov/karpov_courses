{
 "cells": [
  {
   "cell_type": "code",
   "execution_count": 4,
   "id": "47156b63-680c-4a11-a885-00d092eef80c",
   "metadata": {},
   "outputs": [],
   "source": [
    "import glob\n",
    "import pandas as pd"
   ]
  },
  {
   "cell_type": "code",
   "execution_count": 8,
   "id": "c97db34b-31a8-4645-8f63-291c6c9e8dfd",
   "metadata": {},
   "outputs": [
    {
     "name": "stdout",
     "output_type": "stream",
     "text": [
      "['subsid/prod_activations_logs.csv', 'subsid/tm_sales_1.csv', 'subsid/tm_sales_2.csv', 'subsid/tm_sales_3.csv']\n"
     ]
    }
   ],
   "source": [
    "csv_files = glob.glob( '*/**.csv' )\n",
    "print( result )"
   ]
  },
  {
   "cell_type": "code",
   "execution_count": 220,
   "id": "7801481f-7482-41cd-861e-ab4e4f8e550d",
   "metadata": {},
   "outputs": [],
   "source": [
    "activations = pd.read_csv(csv_files[0], sep=';', \n",
    "                          dtype={'SUBS_ID': str, 'PROD_ID': int}, \n",
    "                          dayfirst=True,\n",
    "                          parse_dates=['START_DTTM', 'END_DTTM'])\n",
    "sales = pd.DataFrame()\n",
    "for csv in csv_files[1:]:\n",
    "    df = pd.read_csv(csv, sep = ';')\n",
    "    df = (\n",
    "        df\n",
    "         .query(\"SUBS_ID.isnull() == False\")\n",
    "         .assign(\n",
    "                 SUBS_ID = 'id' + df.SUBS_ID.str.removeprefix(\"id\")\n",
    "                )\n",
    "    )\n",
    "    sales = pd.concat((sales, df), sort=True, ignore_index=True)\n",
    "\n",
    "merged = activations.merge(sales, how = 'inner', on = ['SUBS_ID', 'PROD_ID'])"
   ]
  },
  {
   "cell_type": "code",
   "execution_count": 239,
   "id": "b928a4cd-1ddd-4ae9-81ce-d6e940d4c490",
   "metadata": {},
   "outputs": [
    {
     "data": {
      "text/plain": [
       "['id7642700', 'id5416547', 'id4651830', 'id2185490']"
      ]
     },
     "execution_count": 239,
     "metadata": {},
     "output_type": "execute_result"
    }
   ],
   "source": [
    "(\n",
    "    merged\n",
    "     .assign(difference = merged.END_DTTM - merged.START_DTTM,\n",
    "             subs_clean = merged.SUBS_ID.str.removeprefix(\"id\").astype(int))\n",
    "     .query(\"difference.astype('timedelta64[m]') >= 5\")\n",
    "     .sort_values(by='subs_clean', ascending=False)\n",
    "     .SUBS_ID.to_list()\n",
    ")"
   ]
  }
 ],
 "metadata": {
  "kernelspec": {
   "display_name": "Python 3 (ipykernel)",
   "language": "python",
   "name": "python3"
  },
  "language_info": {
   "codemirror_mode": {
    "name": "ipython",
    "version": 3
   },
   "file_extension": ".py",
   "mimetype": "text/x-python",
   "name": "python",
   "nbconvert_exporter": "python",
   "pygments_lexer": "ipython3",
   "version": "3.9.6"
  }
 },
 "nbformat": 4,
 "nbformat_minor": 5
}
