{
 "cells": [
  {
   "cell_type": "code",
   "execution_count": 3,
   "id": "47156b63-680c-4a11-a885-00d092eef80c",
   "metadata": {},
   "outputs": [],
   "source": [
    "import glob\n",
    "import pandas as pd"
   ]
  },
  {
   "cell_type": "code",
   "execution_count": 4,
   "id": "c97db34b-31a8-4645-8f63-291c6c9e8dfd",
   "metadata": {},
   "outputs": [],
   "source": [
    "csv_files = glob.glob( '*/**.csv' )"
   ]
  },
  {
   "cell_type": "code",
   "execution_count": 22,
   "id": "7801481f-7482-41cd-861e-ab4e4f8e550d",
   "metadata": {},
   "outputs": [],
   "source": [
    "activations = pd.read_csv(csv_files[0], sep=';', \n",
    "                          dtype={'SUBS_ID': str, 'PROD_ID': int}, \n",
    "                          dayfirst=True,\n",
    "                          parse_dates=['START_DTTM', 'END_DTTM'])\n",
    "sales = pd.DataFrame()\n",
    "for csv in csv_files[1:]:\n",
    "    df = pd.read_csv(csv, sep = ';')\n",
    "    df = (\n",
    "        df\n",
    "         .query(\"SUBS_ID.isnull() == False\")\n",
    "         .assign(SUBS_ID = 'id' + df.SUBS_ID.str.removeprefix(\"id\"))\n",
    "    )\n",
    "    sales = pd.concat((sales, df), sort=True, ignore_index=True)\n",
    "\n",
    "merged = activations.merge(sales, how = 'inner', on = ['SUBS_ID', 'PROD_ID'])"
   ]
  },
  {
   "cell_type": "code",
   "execution_count": 23,
   "id": "b928a4cd-1ddd-4ae9-81ce-d6e940d4c490",
   "metadata": {},
   "outputs": [
    {
     "data": {
      "text/plain": [
       "['id2185490', 'id4651830', 'id5416547', 'id7642700']"
      ]
     },
     "execution_count": 23,
     "metadata": {},
     "output_type": "execute_result"
    }
   ],
   "source": [
    "(\n",
    "    merged\n",
    "     .assign(difference = merged.END_DTTM - merged.START_DTTM)\n",
    "     .query(\"difference.astype('timedelta64[m]') >= 5\")\n",
    "     .sort_values(by='difference', ascending=False)\n",
    "     .SUBS_ID.to_list()\n",
    ")"
   ]
  },
  {
   "cell_type": "code",
   "execution_count": null,
   "id": "c10d15fa-a394-46e1-885e-95da49c3e412",
   "metadata": {},
   "outputs": [],
   "source": []
  }
 ],
 "metadata": {
  "kernelspec": {
   "display_name": "Python 3 (ipykernel)",
   "language": "python",
   "name": "python3"
  },
  "language_info": {
   "codemirror_mode": {
    "name": "ipython",
    "version": 3
   },
   "file_extension": ".py",
   "mimetype": "text/x-python",
   "name": "python",
   "nbconvert_exporter": "python",
   "pygments_lexer": "ipython3",
   "version": "3.9.6"
  }
 },
 "nbformat": 4,
 "nbformat_minor": 5
}
