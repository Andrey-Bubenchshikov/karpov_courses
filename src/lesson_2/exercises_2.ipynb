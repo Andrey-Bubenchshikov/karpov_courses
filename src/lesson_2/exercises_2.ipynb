{
 "cells": [
  {
   "cell_type": "markdown",
   "id": "ab64da52-77d4-4eed-ab35-5532d84ec7ab",
   "metadata": {},
   "source": [
    "## Task 1\n",
    "Начнем с простого вопроса: что произойдет в результате выполнения следующей команды?"
   ]
  },
  {
   "cell_type": "code",
   "execution_count": 14,
   "id": "1ecc750d-1e74-4da3-b0b8-f4dfeb6d8463",
   "metadata": {},
   "outputs": [],
   "source": [
    "import pandas as pnds"
   ]
  },
  {
   "cell_type": "code",
   "execution_count": 26,
   "id": "1c2e4847-dbb2-4f9a-9239-f9c2954cc011",
   "metadata": {},
   "outputs": [],
   "source": [
    "# This will fail because pandas is not defined\n",
    "# pandas.read_csv() \n",
    "\n",
    "# This will work\n",
    "# pd.read_csv()"
   ]
  },
  {
   "cell_type": "markdown",
   "id": "d6381222-4bdd-4b69-8043-43821b997ab9",
   "metadata": {
    "tags": []
   },
   "source": [
    "## Task 2\n",
    "Импортируйте библиотеку pandas, а затем загрузите данные по вышеупомянутой ссылке.  \n",
    "\n",
    "Результат сохраните в переменную taxi."
   ]
  },
  {
   "cell_type": "code",
   "execution_count": 18,
   "id": "a1be7476-45c7-499d-8075-41da78206ef2",
   "metadata": {},
   "outputs": [],
   "source": [
    "import pandas as pd\n",
    "path_to_file = '2_taxi_nyc.csv'\n",
    "taxi = pd.read_csv(path_to_file)"
   ]
  },
  {
   "cell_type": "markdown",
   "id": "d11ea956-8e39-4ff5-ad76-07c80ba9fe70",
   "metadata": {},
   "source": [
    "## Task 3\n",
    "Проверьте, сколько всего строк и столбцов имеется в датасете."
   ]
  },
  {
   "cell_type": "code",
   "execution_count": 30,
   "id": "7b40bb9e-6c87-45da-a0d9-e0ef9e78154c",
   "metadata": {},
   "outputs": [
    {
     "data": {
      "text/plain": [
       "(29101, 14)"
      ]
     },
     "execution_count": 30,
     "metadata": {},
     "output_type": "execute_result"
    }
   ],
   "source": [
    "taxi.shape"
   ]
  },
  {
   "cell_type": "markdown",
   "id": "880d53cc-9c6b-41b9-be86-ee12813de66e",
   "metadata": {},
   "source": [
    "## Task 4\n",
    "Давайте посмотрим на типы колонок. Все ли из них считались правильно? В качестве ответа выберите тип, преобладающий в датасете."
   ]
  },
  {
   "cell_type": "code",
   "execution_count": 37,
   "id": "5f506cc8-285e-431b-95cf-6a6549a44ee0",
   "metadata": {},
   "outputs": [
    {
     "name": "stdout",
     "output_type": "stream",
     "text": [
      "<class 'pandas.core.frame.DataFrame'>\n",
      "RangeIndex: 29101 entries, 0 to 29100\n",
      "Data columns (total 14 columns):\n",
      " #   Column        Non-Null Count  Dtype  \n",
      "---  ------        --------------  -----  \n",
      " 0   pickup_dt     29101 non-null  object \n",
      " 1   pickup_month  29101 non-null  object \n",
      " 2   borough       26058 non-null  object \n",
      " 3   pickups       29101 non-null  int64  \n",
      " 4   hday          29101 non-null  object \n",
      " 5   spd           29101 non-null  float64\n",
      " 6   vsb           29101 non-null  float64\n",
      " 7   temp          29101 non-null  float64\n",
      " 8   dewp          29101 non-null  float64\n",
      " 9   slp           29101 non-null  float64\n",
      " 10  pcp 01        29101 non-null  float64\n",
      " 11  pcp 06        29101 non-null  float64\n",
      " 12  pcp 24        29101 non-null  float64\n",
      " 13  sd            29101 non-null  float64\n",
      "dtypes: float64(9), int64(1), object(4)\n",
      "memory usage: 3.1+ MB\n"
     ]
    }
   ],
   "source": [
    "taxi.info()"
   ]
  },
  {
   "cell_type": "markdown",
   "id": "130ecf85-c721-4c71-9c88-ae393bbf8281",
   "metadata": {},
   "source": [
    "## Task 5\n",
    "В названиях столбцов pcp 01, pcp 06, pcp 24 встречается пробел. Это не очень удобно, если в дальнейшем вы планируете обращаться к колонкам через точку, без использования кавычек и скобочек. \n",
    "\n",
    "Замените пробел в названиях на знак нижнего подчеркивания. \n",
    "\n",
    "Данные должны быть изменены в этом же датафрейме."
   ]
  },
  {
   "cell_type": "code",
   "execution_count": 21,
   "id": "b514c14c-636e-4232-975f-806683201f73",
   "metadata": {},
   "outputs": [],
   "source": [
    "taxi.rename(lambda x: x.replace(' ', '_'), axis = 'columns', inplace = True)"
   ]
  },
  {
   "cell_type": "markdown",
   "id": "8d332e8c-bb10-47a2-8708-7b9a5733a5ae",
   "metadata": {},
   "source": [
    "## Task 6\n",
    "Сколько раз в данных встречается район Бруклин (Brooklyn)?\n"
   ]
  },
  {
   "cell_type": "code",
   "execution_count": 31,
   "id": "bba16ad4-f44c-4371-bed5-f31c15735e94",
   "metadata": {},
   "outputs": [
    {
     "data": {
      "text/plain": [
       "Bronx            4343\n",
       "Brooklyn         4343\n",
       "EWR              4343\n",
       "Manhattan        4343\n",
       "Queens           4343\n",
       "Staten Island    4343\n",
       "Name: borough, dtype: int64"
      ]
     },
     "execution_count": 31,
     "metadata": {},
     "output_type": "execute_result"
    }
   ],
   "source": [
    "(\n",
    "    taxi\n",
    "    .borough\n",
    "    .value_counts()\n",
    ")"
   ]
  },
  {
   "cell_type": "markdown",
   "id": "16f7abaf-8508-4f02-a247-42618ba1f418",
   "metadata": {},
   "source": [
    "## Task 7\n",
    "Следующая задача: выяснить, из какого района было совершено наибольшее количество поездок за весь период. \n",
    "Для начала, посчитайте общее количество поездок (pickups), без группировки.\n"
   ]
  },
  {
   "cell_type": "code",
   "execution_count": 78,
   "id": "13c522d3-c1be-4fe8-ab3c-9571f44ba65e",
   "metadata": {},
   "outputs": [
    {
     "data": {
      "text/plain": [
       "14265773"
      ]
     },
     "execution_count": 78,
     "metadata": {},
     "output_type": "execute_result"
    }
   ],
   "source": [
    "(\n",
    "    taxi\n",
    "    .pickups\n",
    "    .sum()\n",
    ")"
   ]
  },
  {
   "cell_type": "markdown",
   "id": "52779bd3-e472-42c9-9f92-98d7946b758e",
   "metadata": {
    "tags": []
   },
   "source": [
    "## Task 8\n",
    "А теперь сгруппируйте данные по району (borough) и укажите, из какого пункта было совершено больше всего поездок.\n"
   ]
  },
  {
   "cell_type": "code",
   "execution_count": 86,
   "id": "e021516e-c688-4e88-900c-b7385d4620ec",
   "metadata": {},
   "outputs": [
    {
     "data": {
      "text/html": [
       "<div>\n",
       "<style scoped>\n",
       "    .dataframe tbody tr th:only-of-type {\n",
       "        vertical-align: middle;\n",
       "    }\n",
       "\n",
       "    .dataframe tbody tr th {\n",
       "        vertical-align: top;\n",
       "    }\n",
       "\n",
       "    .dataframe thead th {\n",
       "        text-align: right;\n",
       "    }\n",
       "</style>\n",
       "<table border=\"1\" class=\"dataframe\">\n",
       "  <thead>\n",
       "    <tr style=\"text-align: right;\">\n",
       "      <th></th>\n",
       "      <th>borough</th>\n",
       "      <th>pickups</th>\n",
       "    </tr>\n",
       "  </thead>\n",
       "  <tbody>\n",
       "    <tr>\n",
       "      <th>3</th>\n",
       "      <td>Manhattan</td>\n",
       "      <td>10367841</td>\n",
       "    </tr>\n",
       "    <tr>\n",
       "      <th>1</th>\n",
       "      <td>Brooklyn</td>\n",
       "      <td>2321035</td>\n",
       "    </tr>\n",
       "    <tr>\n",
       "      <th>4</th>\n",
       "      <td>Queens</td>\n",
       "      <td>1343528</td>\n",
       "    </tr>\n",
       "    <tr>\n",
       "      <th>0</th>\n",
       "      <td>Bronx</td>\n",
       "      <td>220047</td>\n",
       "    </tr>\n",
       "    <tr>\n",
       "      <th>5</th>\n",
       "      <td>Staten Island</td>\n",
       "      <td>6957</td>\n",
       "    </tr>\n",
       "    <tr>\n",
       "      <th>2</th>\n",
       "      <td>EWR</td>\n",
       "      <td>105</td>\n",
       "    </tr>\n",
       "  </tbody>\n",
       "</table>\n",
       "</div>"
      ],
      "text/plain": [
       "         borough   pickups\n",
       "3      Manhattan  10367841\n",
       "1       Brooklyn   2321035\n",
       "4         Queens   1343528\n",
       "0          Bronx    220047\n",
       "5  Staten Island      6957\n",
       "2            EWR       105"
      ]
     },
     "execution_count": 86,
     "metadata": {},
     "output_type": "execute_result"
    }
   ],
   "source": [
    "(\n",
    "    taxi\n",
    "    .groupby('borough', as_index=False)\n",
    "    .agg({'pickups': 'sum'})\n",
    "    .sort_values('pickups', ascending=False)\n",
    ")"
   ]
  },
  {
   "cell_type": "markdown",
   "id": "a3060b7d-7dac-4aa8-96b6-cbda5726134f",
   "metadata": {},
   "source": [
    "## Task 9\n",
    "Сохраните название района с наименьшим числом поездок в переменную min_pickups, применив подходящий метод."
   ]
  },
  {
   "cell_type": "code",
   "execution_count": 32,
   "id": "70ab9089-0dd8-4207-ac2e-30ae039b9a48",
   "metadata": {},
   "outputs": [
    {
     "data": {
      "text/plain": [
       "'EWR'"
      ]
     },
     "execution_count": 32,
     "metadata": {},
     "output_type": "execute_result"
    }
   ],
   "source": [
    "min_pickups = (\n",
    "    taxi\n",
    "    .groupby('borough')\n",
    "    .agg({'pickups': 'sum'})\n",
    "    .idxmin()\n",
    "    .pickups\n",
    ")\n",
    "min_pickups"
   ]
  },
  {
   "cell_type": "markdown",
   "id": "c191eec8-4071-4547-81ed-93ff5304a095",
   "metadata": {},
   "source": [
    "## Task 10\n",
    "Продолжим изучение данных и посмотрим на число поездок в выходные дни. \n",
    "\n",
    "Сгруппируйте данные по двум признакам: району города и является ли день выходным (колонки borough и hday). \n",
    "\n",
    "Сравните среднее число поездок, и выберите районы, из которых по праздникам в среднем поступает больше заказов, чем в обычные дни. "
   ]
  },
  {
   "cell_type": "code",
   "execution_count": 47,
   "id": "be425951-67cf-4004-8c5b-bccfc224d319",
   "metadata": {},
   "outputs": [
    {
     "data": {
      "text/html": [
       "<div>\n",
       "<style scoped>\n",
       "    .dataframe tbody tr th:only-of-type {\n",
       "        vertical-align: middle;\n",
       "    }\n",
       "\n",
       "    .dataframe tbody tr th {\n",
       "        vertical-align: top;\n",
       "    }\n",
       "\n",
       "    .dataframe thead th {\n",
       "        text-align: right;\n",
       "    }\n",
       "</style>\n",
       "<table border=\"1\" class=\"dataframe\">\n",
       "  <thead>\n",
       "    <tr style=\"text-align: right;\">\n",
       "      <th>hday</th>\n",
       "      <th>borough</th>\n",
       "      <th>N</th>\n",
       "      <th>Y</th>\n",
       "    </tr>\n",
       "  </thead>\n",
       "  <tbody>\n",
       "    <tr>\n",
       "      <th>2</th>\n",
       "      <td>EWR</td>\n",
       "      <td>0.023467</td>\n",
       "      <td>0.041916</td>\n",
       "    </tr>\n",
       "    <tr>\n",
       "      <th>4</th>\n",
       "      <td>Queens</td>\n",
       "      <td>308.899904</td>\n",
       "      <td>320.730539</td>\n",
       "    </tr>\n",
       "  </tbody>\n",
       "</table>\n",
       "</div>"
      ],
      "text/plain": [
       "hday borough           N           Y\n",
       "2        EWR    0.023467    0.041916\n",
       "4     Queens  308.899904  320.730539"
      ]
     },
     "execution_count": 47,
     "metadata": {},
     "output_type": "execute_result"
    }
   ],
   "source": [
    "(\n",
    "    taxi\n",
    "    .groupby(['borough', 'hday'], as_index=False)\n",
    "    .agg({'pickups': 'mean'})\n",
    "    .pivot(index = 'borough', columns = 'hday', values = 'pickups')\n",
    "    .reset_index()\n",
    "    .query('''Y > N''')\n",
    ")"
   ]
  },
  {
   "cell_type": "markdown",
   "id": "70e8c94c-3035-4977-955b-65d4af6c3715",
   "metadata": {},
   "source": [
    "## Task 11\n",
    "Для каждого района посчитайте число поездок по месяцам. \n",
    "\n",
    "Отсортируйте полученные значения по убыванию и сохраните результирующий датафрейм в pickups_by_mon_bor.\n",
    "\n",
    "Обратите внимание, что итоговый датасет должен состоять из 3-х колонок - pickup_month, borough, pickups.\n",
    "\n"
   ]
  },
  {
   "cell_type": "code",
   "execution_count": 110,
   "id": "dbc0b3cd-7ee9-410d-98fd-8918594461f0",
   "metadata": {},
   "outputs": [],
   "source": [
    "pickups_by_mon_bor = (\n",
    "    taxi\n",
    "    .groupby(['pickup_month', 'borough'], as_index=False)\n",
    "    .agg({'pickups': 'sum'})\n",
    "    .sort_values('pickups', ascending=False)\n",
    ")\n"
   ]
  },
  {
   "cell_type": "markdown",
   "id": "18c5cc2e-97f1-43f9-907c-02fc48f70787",
   "metadata": {},
   "source": [
    "## Task 12\n",
    "Напишите функцию temp_to_celcius, которая получает на вход колонку с температурой в °F, и возвращает значения, переведенные в градусы Цельсия."
   ]
  },
  {
   "cell_type": "code",
   "execution_count": 121,
   "id": "a77d969a-1d2f-4796-a710-cd5ac166fd48",
   "metadata": {},
   "outputs": [],
   "source": [
    "def temp_to_celcius(fahrenheit): \n",
    "    celsius = ((fahrenheit-32)*5)/9\n",
    "    return celsius"
   ]
  },
  {
   "cell_type": "code",
   "execution_count": 124,
   "id": "17bba6da-53be-4f2b-8692-b8ce9b37d6e7",
   "metadata": {},
   "outputs": [
    {
     "data": {
      "text/html": [
       "<div>\n",
       "<style scoped>\n",
       "    .dataframe tbody tr th:only-of-type {\n",
       "        vertical-align: middle;\n",
       "    }\n",
       "\n",
       "    .dataframe tbody tr th {\n",
       "        vertical-align: top;\n",
       "    }\n",
       "\n",
       "    .dataframe thead th {\n",
       "        text-align: right;\n",
       "    }\n",
       "</style>\n",
       "<table border=\"1\" class=\"dataframe\">\n",
       "  <thead>\n",
       "    <tr style=\"text-align: right;\">\n",
       "      <th></th>\n",
       "      <th>pickup_dt</th>\n",
       "      <th>pickup_month</th>\n",
       "      <th>borough</th>\n",
       "      <th>pickups</th>\n",
       "      <th>hday</th>\n",
       "      <th>spd</th>\n",
       "      <th>vsb</th>\n",
       "      <th>temp</th>\n",
       "      <th>dewp</th>\n",
       "      <th>slp</th>\n",
       "      <th>pcp 01</th>\n",
       "      <th>pcp 06</th>\n",
       "      <th>pcp 24</th>\n",
       "      <th>sd</th>\n",
       "      <th>celcius_temp</th>\n",
       "    </tr>\n",
       "  </thead>\n",
       "  <tbody>\n",
       "    <tr>\n",
       "      <th>0</th>\n",
       "      <td>2015-01-01 01:00:00</td>\n",
       "      <td>Jan</td>\n",
       "      <td>Bronx</td>\n",
       "      <td>152</td>\n",
       "      <td>Y</td>\n",
       "      <td>5.0</td>\n",
       "      <td>10.0</td>\n",
       "      <td>30.0</td>\n",
       "      <td>7.0</td>\n",
       "      <td>1023.5</td>\n",
       "      <td>0.0</td>\n",
       "      <td>0.0</td>\n",
       "      <td>0.0</td>\n",
       "      <td>0.0</td>\n",
       "      <td>-1.111111</td>\n",
       "    </tr>\n",
       "    <tr>\n",
       "      <th>1</th>\n",
       "      <td>2015-01-01 01:00:00</td>\n",
       "      <td>Jan</td>\n",
       "      <td>Brooklyn</td>\n",
       "      <td>1519</td>\n",
       "      <td>Y</td>\n",
       "      <td>5.0</td>\n",
       "      <td>10.0</td>\n",
       "      <td>30.0</td>\n",
       "      <td>7.0</td>\n",
       "      <td>1023.5</td>\n",
       "      <td>0.0</td>\n",
       "      <td>0.0</td>\n",
       "      <td>0.0</td>\n",
       "      <td>0.0</td>\n",
       "      <td>-1.111111</td>\n",
       "    </tr>\n",
       "    <tr>\n",
       "      <th>2</th>\n",
       "      <td>2015-01-01 01:00:00</td>\n",
       "      <td>Jan</td>\n",
       "      <td>EWR</td>\n",
       "      <td>0</td>\n",
       "      <td>Y</td>\n",
       "      <td>5.0</td>\n",
       "      <td>10.0</td>\n",
       "      <td>30.0</td>\n",
       "      <td>7.0</td>\n",
       "      <td>1023.5</td>\n",
       "      <td>0.0</td>\n",
       "      <td>0.0</td>\n",
       "      <td>0.0</td>\n",
       "      <td>0.0</td>\n",
       "      <td>-1.111111</td>\n",
       "    </tr>\n",
       "    <tr>\n",
       "      <th>3</th>\n",
       "      <td>2015-01-01 01:00:00</td>\n",
       "      <td>Jan</td>\n",
       "      <td>Manhattan</td>\n",
       "      <td>5258</td>\n",
       "      <td>Y</td>\n",
       "      <td>5.0</td>\n",
       "      <td>10.0</td>\n",
       "      <td>30.0</td>\n",
       "      <td>7.0</td>\n",
       "      <td>1023.5</td>\n",
       "      <td>0.0</td>\n",
       "      <td>0.0</td>\n",
       "      <td>0.0</td>\n",
       "      <td>0.0</td>\n",
       "      <td>-1.111111</td>\n",
       "    </tr>\n",
       "    <tr>\n",
       "      <th>4</th>\n",
       "      <td>2015-01-01 01:00:00</td>\n",
       "      <td>Jan</td>\n",
       "      <td>Queens</td>\n",
       "      <td>405</td>\n",
       "      <td>Y</td>\n",
       "      <td>5.0</td>\n",
       "      <td>10.0</td>\n",
       "      <td>30.0</td>\n",
       "      <td>7.0</td>\n",
       "      <td>1023.5</td>\n",
       "      <td>0.0</td>\n",
       "      <td>0.0</td>\n",
       "      <td>0.0</td>\n",
       "      <td>0.0</td>\n",
       "      <td>-1.111111</td>\n",
       "    </tr>\n",
       "  </tbody>\n",
       "</table>\n",
       "</div>"
      ],
      "text/plain": [
       "             pickup_dt pickup_month    borough  pickups hday  spd   vsb  temp  \\\n",
       "0  2015-01-01 01:00:00          Jan      Bronx      152    Y  5.0  10.0  30.0   \n",
       "1  2015-01-01 01:00:00          Jan   Brooklyn     1519    Y  5.0  10.0  30.0   \n",
       "2  2015-01-01 01:00:00          Jan        EWR        0    Y  5.0  10.0  30.0   \n",
       "3  2015-01-01 01:00:00          Jan  Manhattan     5258    Y  5.0  10.0  30.0   \n",
       "4  2015-01-01 01:00:00          Jan     Queens      405    Y  5.0  10.0  30.0   \n",
       "\n",
       "   dewp     slp  pcp 01  pcp 06  pcp 24   sd  celcius_temp  \n",
       "0   7.0  1023.5     0.0     0.0     0.0  0.0     -1.111111  \n",
       "1   7.0  1023.5     0.0     0.0     0.0  0.0     -1.111111  \n",
       "2   7.0  1023.5     0.0     0.0     0.0  0.0     -1.111111  \n",
       "3   7.0  1023.5     0.0     0.0     0.0  0.0     -1.111111  \n",
       "4   7.0  1023.5     0.0     0.0     0.0  0.0     -1.111111  "
      ]
     },
     "execution_count": 124,
     "metadata": {},
     "output_type": "execute_result"
    }
   ],
   "source": [
    "taxi['celcius_temp'] = taxi.transform({'temp': temp_to_celcius})\n",
    "taxi.head()"
   ]
  },
  {
   "cell_type": "code",
   "execution_count": null,
   "id": "c7e206a8-52c4-484b-8d90-b6963ae3c44d",
   "metadata": {},
   "outputs": [],
   "source": []
  }
 ],
 "metadata": {
  "kernelspec": {
   "display_name": "Python 3 (ipykernel)",
   "language": "python",
   "name": "python3"
  },
  "language_info": {
   "codemirror_mode": {
    "name": "ipython",
    "version": 3
   },
   "file_extension": ".py",
   "mimetype": "text/x-python",
   "name": "python",
   "nbconvert_exporter": "python",
   "pygments_lexer": "ipython3",
   "version": "3.9.6"
  }
 },
 "nbformat": 4,
 "nbformat_minor": 5
}
