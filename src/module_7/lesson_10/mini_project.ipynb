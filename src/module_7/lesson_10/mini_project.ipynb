{
 "cells": [
  {
   "cell_type": "code",
   "execution_count": 2,
   "id": "a2ec3869-1652-4f67-af2b-85d81d52666c",
   "metadata": {},
   "outputs": [],
   "source": [
    "import numpy as np\n",
    "import pandas as pd\n",
    "import seaborn as sns\n",
    "from scipy import stats\n",
    "from statsmodels.stats.contingency_tables import StratifiedTable\n",
    "import matplotlib.pyplot as plt\n",
    "\n",
    "from tqdm.auto import tqdm"
   ]
  },
  {
   "cell_type": "markdown",
   "id": "f2abc6a9-b735-4d51-9153-173d8a2d720d",
   "metadata": {},
   "source": [
    "## Загрузка данных"
   ]
  },
  {
   "cell_type": "code",
   "execution_count": 3,
   "id": "48922a81-292c-4eaa-9714-d6370b642795",
   "metadata": {},
   "outputs": [],
   "source": [
    "df = pd.read_csv('hw_aa.csv', sep=';', index_col=0)"
   ]
  },
  {
   "cell_type": "markdown",
   "id": "5659d7b3-706b-420b-831f-915b7bf52dae",
   "metadata": {},
   "source": [
    "## Первоначальный A/A Тест"
   ]
  },
  {
   "cell_type": "code",
   "execution_count": 4,
   "id": "d2eab209-aeb2-4d75-ab3f-1086e163598d",
   "metadata": {},
   "outputs": [
    {
     "data": {
      "application/vnd.jupyter.widget-view+json": {
       "model_id": "e4ed020e6e144b67bee2a0472a455f68",
       "version_major": 2,
       "version_minor": 0
      },
      "text/plain": [
       "  0%|          | 0/1000 [00:00<?, ?it/s]"
      ]
     },
     "metadata": {},
     "output_type": "display_data"
    },
    {
     "data": {
      "image/png": "[encoded data removed]",
      "text/plain": [
       "<Figure size 640x480 with 1 Axes>"
      ]
     },
     "metadata": {},
     "output_type": "display_data"
    },
    {
     "data": {
      "text/plain": [
       "0.933"
      ]
     },
     "execution_count": 4,
     "metadata": {},
     "output_type": "execute_result"
    }
   ],
   "source": [
    "simulations = 1000\n",
    "n_s = 1000\n",
    "res = []\n",
    "\n",
    "# Запуск симуляций A/A теста\n",
    "for i in tqdm(range(simulations)):\n",
    "    s1 = df.query('experimentVariant == 0').purchase.sample(n_s, replace = False).values\n",
    "    s2 = df.query('experimentVariant == 1').purchase.sample(n_s, replace = False).values\n",
    "    res.append(stats.ttest_ind(s1, s2, equal_var = False)[1]) # сохраняем pvalue\n",
    "\n",
    "plt.hist(res, bins = 50)\n",
    "plt.style.use('ggplot')\n",
    "plt.xlabel('pvalues')\n",
    "plt.ylabel('frequency')\n",
    "plt.title(\"Histogram of ttest A/A simulations \")\n",
    "plt.show()\n",
    "\n",
    "# Проверяем, что количество ложноположительных случаев не превышает альфа\n",
    "sum(np.array(res) <0.05) / simulations"
   ]
  },
  {
   "cell_type": "markdown",
   "id": "4db3cb1f-71e1-4d56-a719-dba144bed77a",
   "metadata": {},
   "source": [
    "По резльтату A/A теста видно, что есть ошибка в разделители выборки."
   ]
  },
  {
   "cell_type": "markdown",
   "id": "d75da67b-06ec-4a40-8f82-451434b7aa57",
   "metadata": {},
   "source": [
    "## Исследование Причины Не Верного Деления "
   ]
  },
  {
   "cell_type": "code",
   "execution_count": 8,
   "id": "16453e64-b3ea-4a89-8beb-d7dd9418b151",
   "metadata": {},
   "outputs": [
    {
     "data": {
      "text/html": [
       "<table class=\"simpletable\">\n",
       "<tr>\n",
       "          <td></td>          <th>Estimate</th>    <th>LCB</th>    <th>UCB</th> \n",
       "</tr>\n",
       "<tr>\n",
       "  <th>Pooled odds</th>           <td>2.300</td>   <td>2.161</td> <td>2.447</td>\n",
       "</tr>\n",
       "<tr>\n",
       "  <th>Pooled log odds</th>       <td>0.833</td>   <td>0.771</td> <td>0.895</td>\n",
       "</tr>\n",
       "<tr>\n",
       "  <th>Pooled risk ratio</th>     <td>1.657</td>        <td></td>      <td></td>\n",
       "</tr>\n",
       "<tr>\n",
       "  <th></th>                           <td></td>        <td></td>      <td></td>\n",
       "</tr>\n",
       "<tr>\n",
       "          <td></td>         <th>Statistic</th> <th>P-value</th> <th></th>\n",
       "</tr>\n",
       "<tr>\n",
       "  <th>Test of OR=1</th>       <td>734.655</td>   <td>0.000</td> <td></td>\n",
       "</tr>\n",
       "<tr>\n",
       "  <th>Test constant OR</th>  <td>1256.880</td>   <td>0.000</td> <td></td>\n",
       "</tr>\n",
       "<tr>\n",
       "          <td></td>            <th></th>    <th></th> <th></th>\n",
       "</tr>\n",
       "<tr>\n",
       "  <th>Number of tables</th>      <td>4</td> <td></td> <td></td>\n",
       "</tr>\n",
       "<tr>\n",
       "  <th>Min n</th>              <td>8425</td> <td></td> <td></td>\n",
       "</tr>\n",
       "<tr>\n",
       "  <th>Max n</th>             <td>82835</td> <td></td> <td></td>\n",
       "</tr>\n",
       "<tr>\n",
       "  <th>Avg n</th>             <td>31754</td> <td></td> <td></td>\n",
       "</tr>\n",
       "<tr>\n",
       "  <th>Total n</th>          <td>127018</td> <td></td> <td></td>\n",
       "</tr>\n",
       "</table>"
      ],
      "text/plain": [
       "<class 'statsmodels.iolib.table.SimpleTable'>"
      ]
     },
     "execution_count": 8,
     "metadata": {},
     "output_type": "execute_result"
    }
   ],
   "source": [
    "StratifiedTable.from_data('purchase', 'experimentVariant', 'version', df).summary()"
   ]
  },
  {
   "cell_type": "code",
   "execution_count": 9,
   "id": "47929c89-f932-43db-8aec-553bdbaaa526",
   "metadata": {},
   "outputs": [
    {
     "data": {
      "text/html": [
       "<div>\n",
       "<style scoped>\n",
       "    .dataframe tbody tr th:only-of-type {\n",
       "        vertical-align: middle;\n",
       "    }\n",
       "\n",
       "    .dataframe tbody tr th {\n",
       "        vertical-align: top;\n",
       "    }\n",
       "\n",
       "    .dataframe thead th {\n",
       "        text-align: right;\n",
       "    }\n",
       "</style>\n",
       "<table border=\"1\" class=\"dataframe\">\n",
       "  <thead>\n",
       "    <tr style=\"text-align: right;\">\n",
       "      <th></th>\n",
       "      <th>experimentVariant</th>\n",
       "      <th>version</th>\n",
       "      <th>obs</th>\n",
       "      <th>conversion</th>\n",
       "    </tr>\n",
       "  </thead>\n",
       "  <tbody>\n",
       "    <tr>\n",
       "      <th>0</th>\n",
       "      <td>0</td>\n",
       "      <td>v2.8.0</td>\n",
       "      <td>41283</td>\n",
       "      <td>0.000993</td>\n",
       "    </tr>\n",
       "    <tr>\n",
       "      <th>4</th>\n",
       "      <td>1</td>\n",
       "      <td>v2.8.0</td>\n",
       "      <td>41552</td>\n",
       "      <td>0.045606</td>\n",
       "    </tr>\n",
       "    <tr>\n",
       "      <th>1</th>\n",
       "      <td>0</td>\n",
       "      <td>v2.9.0</td>\n",
       "      <td>11921</td>\n",
       "      <td>0.074658</td>\n",
       "    </tr>\n",
       "    <tr>\n",
       "      <th>5</th>\n",
       "      <td>1</td>\n",
       "      <td>v2.9.0</td>\n",
       "      <td>12033</td>\n",
       "      <td>0.071304</td>\n",
       "    </tr>\n",
       "    <tr>\n",
       "      <th>2</th>\n",
       "      <td>0</td>\n",
       "      <td>v3.7.4.0</td>\n",
       "      <td>4204</td>\n",
       "      <td>0.059943</td>\n",
       "    </tr>\n",
       "    <tr>\n",
       "      <th>6</th>\n",
       "      <td>1</td>\n",
       "      <td>v3.7.4.0</td>\n",
       "      <td>4221</td>\n",
       "      <td>0.063018</td>\n",
       "    </tr>\n",
       "    <tr>\n",
       "      <th>3</th>\n",
       "      <td>0</td>\n",
       "      <td>v3.8.0.0</td>\n",
       "      <td>5694</td>\n",
       "      <td>0.057604</td>\n",
       "    </tr>\n",
       "    <tr>\n",
       "      <th>7</th>\n",
       "      <td>1</td>\n",
       "      <td>v3.8.0.0</td>\n",
       "      <td>6110</td>\n",
       "      <td>0.062848</td>\n",
       "    </tr>\n",
       "  </tbody>\n",
       "</table>\n",
       "</div>"
      ],
      "text/plain": [
       "   experimentVariant   version    obs  conversion\n",
       "0                  0    v2.8.0  41283    0.000993\n",
       "4                  1    v2.8.0  41552    0.045606\n",
       "1                  0    v2.9.0  11921    0.074658\n",
       "5                  1    v2.9.0  12033    0.071304\n",
       "2                  0  v3.7.4.0   4204    0.059943\n",
       "6                  1  v3.7.4.0   4221    0.063018\n",
       "3                  0  v3.8.0.0   5694    0.057604\n",
       "7                  1  v3.8.0.0   6110    0.062848"
      ]
     },
     "execution_count": 9,
     "metadata": {},
     "output_type": "execute_result"
    }
   ],
   "source": [
    "(\n",
    "    df\n",
    "    .groupby(['experimentVariant', 'version'], as_index=False)\n",
    "    .agg(\n",
    "        obs = ('purchase', 'count'),\n",
    "        conversion = ('purchase', 'mean')\n",
    "    )\n",
    "    .sort_values('version')\n",
    ")"
   ]
  },
  {
   "cell_type": "markdown",
   "id": "a0096d9c-c61e-4818-b1e1-da3a3786cf55",
   "metadata": {},
   "source": [
    "Смотря на конверсию видно, что что-то пошло не так в версии \"v2.8.0\" для варианта \"0\". Следует исключить версию \"v2.8.0\" и посмотреть на результат A/A теста."
   ]
  },
  {
   "cell_type": "markdown",
   "id": "e7a30718-ecad-4aff-b035-02d6f88f28ef",
   "metadata": {},
   "source": [
    "## A/A Тест без Версии 2.8.0"
   ]
  },
  {
   "cell_type": "code",
   "execution_count": 11,
   "id": "bcb7f066-86e0-4510-83c5-24bbfd8d6b04",
   "metadata": {},
   "outputs": [
    {
     "data": {
      "application/vnd.jupyter.widget-view+json": {
       "model_id": "6e02e437cfd544068aa5863481866c92",
       "version_major": 2,
       "version_minor": 0
      },
      "text/plain": [
       "  0%|          | 0/1000 [00:00<?, ?it/s]"
      ]
     },
     "metadata": {},
     "output_type": "display_data"
    },
    {
     "data": {
      "image/png": "[encoded data removed]",
      "text/plain": [
       "<Figure size 640x480 with 1 Axes>"
      ]
     },
     "metadata": {},
     "output_type": "display_data"
    },
    {
     "data": {
      "text/plain": [
       "0.045"
      ]
     },
     "execution_count": 11,
     "metadata": {},
     "output_type": "execute_result"
    }
   ],
   "source": [
    "simulations = 1000\n",
    "n_s = 1000\n",
    "res = []\n",
    "\n",
    "# Запуск симуляций A/A теста\n",
    "for i in tqdm(range(simulations)):\n",
    "    s1 = df.query('experimentVariant == 0 and version != \"v2.8.0\"').purchase.sample(n_s, replace = False).values\n",
    "    s2 = df.query('experimentVariant == 1 and version != \"v2.8.0\"').purchase.sample(n_s, replace = False).values\n",
    "    res.append(stats.ttest_ind(s1, s2, equal_var = False)[1]) # сохраняем pvalue\n",
    "\n",
    "plt.hist(res, bins = 50)\n",
    "plt.style.use('ggplot')\n",
    "plt.xlabel('pvalues')\n",
    "plt.ylabel('frequency')\n",
    "plt.title(\"Histogram of ttest A/A simulations \")\n",
    "plt.show()\n",
    "\n",
    "# Проверяем, что количество ложноположительных случаев не превышает альфа\n",
    "sum(np.array(res) <0.05) / simulations"
   ]
  },
  {
   "cell_type": "markdown",
   "id": "2883cd8b-9659-4373-ab77-6c61aca09614",
   "metadata": {},
   "source": [
    "FPR меньше 0.05 значит механика деление работает верно.  "
   ]
  },
  {
   "cell_type": "markdown",
   "id": "0160b595-3594-41ad-b8b8-d911398b2ed7",
   "metadata": {},
   "source": [
    "## Заключение"
   ]
  },
  {
   "cell_type": "markdown",
   "id": "dbb13806-bfb4-4ed3-98a1-4c3daff1f8ba",
   "metadata": {},
   "source": [
    "По результатам анализа можно видеть, что изначальное деление было не верным. Черезвычайно низкая конверсия в варинте \"0\" и результат А/А теста меньше 0.05 после удаления версии 2.8.0 это подтверждают.  \n",
    "Причина почему произошла ошибка не известна, но если более позднии версии были не затронуты, то есть высокая вероятность, что изминение в коде повлияли на изкажение в выборки. "
   ]
  },
  {
   "cell_type": "code",
   "execution_count": null,
   "id": "81f38f69-fc19-4b63-a018-324694f1879a",
   "metadata": {},
   "outputs": [],
   "source": []
  }
 ],
 "metadata": {
  "kernelspec": {
   "display_name": "Python 3 (ipykernel)",
   "language": "python",
   "name": "python3"
  },
  "language_info": {
   "codemirror_mode": {
    "name": "ipython",
    "version": 3
   },
   "file_extension": ".py",
   "mimetype": "text/x-python",
   "name": "python",
   "nbconvert_exporter": "python",
   "pygments_lexer": "ipython3",
   "version": "3.9.6"
  }
 },
 "nbformat": 4,
 "nbformat_minor": 5
}
