{
 "cells": [
  {
   "cell_type": "code",
   "execution_count": 2,
   "id": "874cc2f7-d1bf-49e7-a061-d23a4987ccb9",
   "metadata": {},
   "outputs": [],
   "source": [
    "import pandas as pd\n",
    "import numpy as np\n",
    "import seaborn as sns\n",
    "import scipy as sp\n",
    "import pingouin as pg\n",
    "%matplotlib inline\n",
    "import matplotlib.pyplot as plt\n",
    "import statsmodels.formula.api as smf\n",
    "\n",
    "sns.set(\n",
    "    font_scale=2,\n",
    "    style=\"whitegrid\",\n",
    "    rc={'figure.figsize':(20,7)}\n",
    ")\n",
    "\n",
    "cars = pd.read_csv('cars.csv')"
   ]
  },
  {
   "cell_type": "markdown",
   "id": "68db7e36-d081-4322-9fc5-d173f97498b5",
   "metadata": {},
   "source": [
    "## Task 1"
   ]
  },
  {
   "cell_type": "code",
   "execution_count": 3,
   "id": "f8f6dc88-a649-42cb-a60c-39a6d11109ad",
   "metadata": {},
   "outputs": [
    {
     "data": {
      "text/plain": [
       "car_ID              0\n",
       "symboling           0\n",
       "CarName             0\n",
       "fueltype            0\n",
       "aspiration          0\n",
       "doornumber          0\n",
       "carbody             0\n",
       "drivewheel          0\n",
       "enginelocation      0\n",
       "wheelbase           0\n",
       "carlength           0\n",
       "carwidth            0\n",
       "carheight           0\n",
       "curbweight          0\n",
       "enginetype          0\n",
       "cylindernumber      0\n",
       "enginesize          0\n",
       "fuelsystem          0\n",
       "boreratio           0\n",
       "stroke              0\n",
       "compressionratio    0\n",
       "horsepower          0\n",
       "peakrpm             0\n",
       "citympg             0\n",
       "highwaympg          0\n",
       "price               0\n",
       "dtype: int64"
      ]
     },
     "execution_count": 3,
     "metadata": {},
     "output_type": "execute_result"
    }
   ],
   "source": [
    "cars.isnull().sum()\n",
    "# answer - 0"
   ]
  },
  {
   "cell_type": "markdown",
   "id": "faf0e574-b8c8-45cb-9909-d69a02b5d166",
   "metadata": {},
   "source": [
    "## Task 2"
   ]
  },
  {
   "cell_type": "code",
   "execution_count": 4,
   "id": "8f6bfae4-7b58-4212-9a41-810eac081555",
   "metadata": {},
   "outputs": [
    {
     "data": {
      "text/plain": [
       "28"
      ]
     },
     "execution_count": 4,
     "metadata": {},
     "output_type": "execute_result"
    }
   ],
   "source": [
    "cars = (\n",
    "    cars\n",
    "    .assign(company = cars.CarName.str.split(\" \").str[0])\n",
    "    .drop([\"CarName\", \"car_ID\"], axis=1)\n",
    ")\n",
    "cars.company.nunique()\n",
    "# answer 28"
   ]
  },
  {
   "cell_type": "markdown",
   "id": "983edaff-a713-47e9-8e16-f7f31f337a05",
   "metadata": {},
   "source": [
    "## Task 3"
   ]
  },
  {
   "cell_type": "code",
   "execution_count": 5,
   "id": "67b6d3c0-f06b-4247-acf6-2d75291691e6",
   "metadata": {},
   "outputs": [
    {
     "data": {
      "text/plain": [
       "22"
      ]
     },
     "execution_count": 5,
     "metadata": {},
     "output_type": "execute_result"
    }
   ],
   "source": [
    "def change_company_names(car_names):\n",
    "    car_names = car_names.str.lower()\n",
    "    car_names = car_names.str.replace('porcshce', 'porsche')\n",
    "    car_names = car_names.str.replace('maxda', 'mazda')\n",
    "    car_names = car_names.str.replace('toyouta', 'toyota')\n",
    "    car_names = car_names.str.replace('vokswagen', 'volkswagen')\n",
    "    car_names = car_names.str.replace('vw', 'volkswagen')\n",
    "    return car_names\n",
    "\n",
    "cars = (\n",
    "    cars\n",
    "    .assign(company = lambda x: change_company_names(x.company))\n",
    ")\n",
    "    \n",
    "    \n",
    "cars.company.nunique()\n",
    "# answer = 22"
   ]
  },
  {
   "cell_type": "markdown",
   "id": "b2c4eee8-d048-4dab-81b3-98091d55d31c",
   "metadata": {},
   "source": [
    "## Task 4"
   ]
  },
  {
   "cell_type": "code",
   "execution_count": 6,
   "id": "fc57fe72-f880-4663-92a6-9572147bd5b0",
   "metadata": {},
   "outputs": [
    {
     "name": "stderr",
     "output_type": "stream",
     "text": [
      "/tmp/ipykernel_15/1637333781.py:2: FutureWarning: The default value of numeric_only in DataFrame.corr is deprecated. In a future version, it will default to False. Select only valid columns or specify the value of numeric_only to silence this warning.\n",
      "  cars\n"
     ]
    },
    {
     "data": {
      "text/plain": [
       "price         1.000000\n",
       "wheelbase     0.577816\n",
       "carlength     0.682920\n",
       "carwidth      0.759325\n",
       "curbweight    0.835305\n",
       "enginesize    0.874145\n",
       "boreratio     0.553173\n",
       "horsepower    0.808139\n",
       "Name: price, dtype: float64"
      ]
     },
     "execution_count": 6,
     "metadata": {},
     "output_type": "execute_result"
    }
   ],
   "source": [
    "(\n",
    "    cars\n",
    "    [['price', 'company', 'fueltype', 'aspiration','carbody', 'drivewheel', 'wheelbase', 'carlength',\n",
    "      'carwidth', 'curbweight', 'enginetype', 'cylindernumber', 'enginesize', 'boreratio','horsepower']]\n",
    "    .corr()\n",
    "    .price\n",
    "\n",
    ")\n",
    "\n",
    "# answer - 0.81"
   ]
  },
  {
   "cell_type": "markdown",
   "id": "bfa45aac-4276-404a-bd52-ec908d113999",
   "metadata": {},
   "source": [
    "## Task 5"
   ]
  },
  {
   "cell_type": "code",
   "execution_count": 7,
   "id": "cac3f38d-0a0f-43d0-994a-2348f3ba36c9",
   "metadata": {},
   "outputs": [
    {
     "data": {
      "text/plain": [
       "(205, 49)"
      ]
     },
     "execution_count": 7,
     "metadata": {},
     "output_type": "execute_result"
    }
   ],
   "source": [
    "df_dummy = pd.get_dummies(\n",
    "    data=(\n",
    "        cars\n",
    "        [['company', 'fueltype', 'aspiration','carbody', 'drivewheel', 'wheelbase', \n",
    "          'carlength','carwidth', 'curbweight', 'enginetype', 'cylindernumber',\n",
    "          'enginesize', 'boreratio','horsepower', 'price']]\n",
    "    ), \n",
    "    drop_first = True\n",
    ")\n",
    "df_dummy.shape\n",
    "# answer - 49\n"
   ]
  },
  {
   "cell_type": "markdown",
   "id": "544a697a-7b2a-45c9-b0c0-b24ced86d61c",
   "metadata": {},
   "source": [
    "## Task 6"
   ]
  },
  {
   "cell_type": "code",
   "execution_count": 8,
   "id": "c08171e2-65c0-45da-b62e-c3671d712f03",
   "metadata": {},
   "outputs": [
    {
     "name": "stdout",
     "output_type": "stream",
     "text": [
      "                            OLS Regression Results                            \n",
      "==============================================================================\n",
      "Dep. Variable:                  price   R-squared:                       0.653\n",
      "Model:                            OLS   Adj. R-squared:                  0.651\n",
      "Method:                 Least Squares   F-statistic:                     382.2\n",
      "Date:                Wed, 28 Dec 2022   Prob (F-statistic):           1.48e-48\n",
      "Time:                        14:09:53   Log-Likelihood:                -2024.0\n",
      "No. Observations:                 205   AIC:                             4052.\n",
      "Df Residuals:                     203   BIC:                             4059.\n",
      "Df Model:                           1                                         \n",
      "Covariance Type:            nonrobust                                         \n",
      "==============================================================================\n",
      "                 coef    std err          t      P>|t|      [0.025      0.975]\n",
      "------------------------------------------------------------------------------\n",
      "Intercept  -3721.7615    929.849     -4.003      0.000   -5555.163   -1888.360\n",
      "horsepower   163.2631      8.351     19.549      0.000     146.796     179.730\n",
      "==============================================================================\n",
      "Omnibus:                       47.741   Durbin-Watson:                   0.792\n",
      "Prob(Omnibus):                  0.000   Jarque-Bera (JB):               91.702\n",
      "Skew:                           1.141   Prob(JB):                     1.22e-20\n",
      "Kurtosis:                       5.352   Cond. No.                         314.\n",
      "==============================================================================\n",
      "\n",
      "Notes:\n",
      "[1] Standard Errors assume that the covariance matrix of the errors is correctly specified.\n"
     ]
    }
   ],
   "source": [
    "simple_lm = smf.ols('price ~ horsepower', df_dummy).fit()\n",
    "print(simple_lm.summary())\n",
    "# answer - 65%"
   ]
  },
  {
   "cell_type": "markdown",
   "id": "235d5655-bb9c-408f-be40-1baea150341c",
   "metadata": {},
   "source": [
    "## Task 7"
   ]
  },
  {
   "cell_type": "code",
   "execution_count": 10,
   "id": "6e230b45-83e8-4bbd-a4d2-6243641e7890",
   "metadata": {},
   "outputs": [
    {
     "name": "stdout",
     "output_type": "stream",
     "text": [
      "                            OLS Regression Results                            \n",
      "==============================================================================\n",
      "Dep. Variable:                  price   R-squared:                       0.959\n",
      "Model:                            OLS   Adj. R-squared:                  0.948\n",
      "Method:                 Least Squares   F-statistic:                     81.09\n",
      "Date:                Wed, 28 Dec 2022   Prob (F-statistic):           4.86e-89\n",
      "Time:                        14:10:05   Log-Likelihood:                -1804.2\n",
      "No. Observations:                 205   AIC:                             3702.\n",
      "Df Residuals:                     158   BIC:                             3858.\n",
      "Df Model:                          46                                         \n",
      "Covariance Type:            nonrobust                                         \n",
      "=========================================================================================\n",
      "                            coef    std err          t      P>|t|      [0.025      0.975]\n",
      "-----------------------------------------------------------------------------------------\n",
      "Intercept             -3.472e+04   1.17e+04     -2.959      0.004   -5.79e+04   -1.15e+04\n",
      "wheelbase               147.1396     76.234      1.930      0.055      -3.429     297.708\n",
      "carlength              -113.2012     48.949     -2.313      0.022    -209.881     -16.522\n",
      "carwidth                809.1860    214.508      3.772      0.000     385.514    1232.858\n",
      "curbweight                4.1822      1.582      2.643      0.009       1.057       7.307\n",
      "enginesize               61.4212     23.643      2.598      0.010      14.724     108.119\n",
      "boreratio             -4319.4728   1759.825     -2.454      0.015   -7795.288    -843.657\n",
      "horsepower               34.7010     18.000      1.928      0.056      -0.850      70.252\n",
      "company_audi            437.1040   2125.971      0.206      0.837   -3761.885    4636.093\n",
      "company_bmw            7993.4998   2105.132      3.797      0.000    3835.671    1.22e+04\n",
      "company_buick          3431.0969   2472.252      1.388      0.167   -1451.829    8314.023\n",
      "company_chevrolet     -2107.0167   2054.269     -1.026      0.307   -6164.387    1950.353\n",
      "company_dodge         -3034.5530   1686.337     -1.799      0.074   -6365.224     296.118\n",
      "company_honda         -2328.7396   1622.141     -1.436      0.153   -5532.617     875.138\n",
      "company_isuzu          -926.1643   1819.489     -0.509      0.611   -4519.823    2667.495\n",
      "company_jaguar         2695.2664   2546.268      1.059      0.291   -2333.847    7724.379\n",
      "company_mazda         -1291.5657   1652.561     -0.782      0.436   -4555.527    1972.395\n",
      "company_mercury       -2762.0259   2786.701     -0.991      0.323   -8266.016    2741.965\n",
      "company_mitsubishi    -3699.6473   1650.046     -2.242      0.026   -6958.640    -440.654\n",
      "company_nissan        -1488.1217   1563.564     -0.952      0.343   -4576.305    1600.061\n",
      "company_peugeot       -2671.4595   1795.328     -1.488      0.139   -6217.398     874.479\n",
      "company_plymouth      -3052.1258   1670.829     -1.827      0.070   -6352.166     247.915\n",
      "company_porsche        4915.9715   2797.761      1.757      0.081    -609.864    1.04e+04\n",
      "company_renault       -2865.2197   2073.046     -1.382      0.169   -6959.676    1229.237\n",
      "company_saab            719.8222   1767.620      0.407      0.684   -2771.390    4211.035\n",
      "company_subaru        -1.164e+04   3416.221     -3.407      0.001   -1.84e+04   -4892.375\n",
      "company_toyota        -2608.7871   1539.320     -1.695      0.092   -5649.086     431.512\n",
      "company_volkswagen    -2261.9355   1606.886     -1.408      0.161   -5435.683     911.812\n",
      "company_volvo            68.2605   1943.170      0.035      0.972   -3769.679    3906.200\n",
      "fueltype_gas           -243.7792    908.310     -0.268      0.789   -2037.774    1550.216\n",
      "aspiration_turbo        596.6566    676.548      0.882      0.379    -739.588    1932.902\n",
      "carbody_hardtop       -2556.7157   1213.929     -2.106      0.037   -4954.337    -159.094\n",
      "carbody_hatchback     -3044.4196   1107.064     -2.750      0.007   -5230.972    -857.867\n",
      "carbody_sedan         -2256.9173   1154.971     -1.954      0.052   -4538.090      24.256\n",
      "carbody_wagon         -2815.4970   1223.156     -2.302      0.023   -5231.343    -399.651\n",
      "drivewheel_fwd         -169.4926    888.585     -0.191      0.849   -1924.531    1585.545\n",
      "drivewheel_rwd          231.9066   1039.685      0.223      0.824   -1821.566    2285.380\n",
      "enginetype_dohcv      -8358.0756   4326.239     -1.932      0.055   -1.69e+04     186.645\n",
      "enginetype_l          -1067.3120   1602.125     -0.666      0.506   -4231.657    2097.033\n",
      "enginetype_ohc         -273.7175   1063.557     -0.257      0.797   -2374.341    1826.906\n",
      "enginetype_ohcf        1.031e+04   2672.508      3.857      0.000    5028.873    1.56e+04\n",
      "enginetype_ohcv       -2393.8587   1214.631     -1.971      0.050   -4792.867       5.150\n",
      "enginetype_rotor         37.4715   2092.597      0.018      0.986   -4095.600    4170.543\n",
      "cylindernumber_five   -5235.5232   2887.214     -1.813      0.072   -1.09e+04     466.990\n",
      "cylindernumber_four   -3741.3604   3542.130     -1.056      0.292   -1.07e+04    3254.673\n",
      "cylindernumber_six    -5441.5317   2628.646     -2.070      0.040   -1.06e+04    -249.713\n",
      "cylindernumber_three   1604.1476   2774.698      0.578      0.564   -3876.137    7084.432\n",
      "cylindernumber_twelve -8097.1585   3616.336     -2.239      0.027   -1.52e+04    -954.561\n",
      "cylindernumber_two       37.4715   2092.597      0.018      0.986   -4095.600    4170.543\n",
      "==============================================================================\n",
      "Omnibus:                       81.075   Durbin-Watson:                   1.382\n",
      "Prob(Omnibus):                  0.000   Jarque-Bera (JB):              487.187\n",
      "Skew:                           1.379   Prob(JB):                    1.62e-106\n",
      "Kurtosis:                      10.031   Cond. No.                     1.02e+16\n",
      "==============================================================================\n",
      "\n",
      "Notes:\n",
      "[1] Standard Errors assume that the covariance matrix of the errors is correctly specified.\n",
      "[2] The smallest eigenvalue is 1.35e-23. This might indicate that there are\n",
      "strong multicollinearity problems or that the design matrix is singular.\n"
     ]
    }
   ],
   "source": [
    "independent_variables = ('+').join(df_dummy.columns[~df_dummy.columns.isin(['price'])])\n",
    "full_lm = smf.ols('price ~ ' + independent_variables, df_dummy).fit()\n",
    "print(full_lm.summary())"
   ]
  },
  {
   "cell_type": "code",
   "execution_count": 205,
   "id": "63caa370-069a-4e88-9108-812ea7ef3d80",
   "metadata": {},
   "outputs": [
    {
     "name": "stdout",
     "output_type": "stream",
     "text": [
      "                            OLS Regression Results                            \n",
      "==============================================================================\n",
      "Dep. Variable:                  price   R-squared:                       0.914\n",
      "Model:                            OLS   Adj. R-squared:                  0.901\n",
      "Method:                 Least Squares   F-statistic:                     72.32\n",
      "Date:                Fri, 23 Dec 2022   Prob (F-statistic):           9.86e-81\n",
      "Time:                        19:15:59   Log-Likelihood:                -1881.6\n",
      "No. Observations:                 205   AIC:                             3817.\n",
      "Df Residuals:                     178   BIC:                             3907.\n",
      "Df Model:                          26                                         \n",
      "Covariance Type:            nonrobust                                         \n",
      "=========================================================================================\n",
      "                            coef    std err          t      P>|t|      [0.025      0.975]\n",
      "-----------------------------------------------------------------------------------------\n",
      "Intercept               -1.7e+04    1.3e+04     -1.309      0.192   -4.26e+04    8625.219\n",
      "wheelbase                71.1868     87.028      0.818      0.414    -100.552     242.925\n",
      "carlength               -51.3497     50.341     -1.020      0.309    -150.692      47.993\n",
      "carwidth                541.8700    253.327      2.139      0.034      41.958    1041.782\n",
      "curbweight                2.9577      1.796      1.647      0.101      -0.585       6.501\n",
      "enginesize               36.0515     22.376      1.611      0.109      -8.105      80.208\n",
      "boreratio             -2230.4519   1731.681     -1.288      0.199   -5647.719    1186.815\n",
      "horsepower               86.8164     16.717      5.193      0.000      53.827     119.806\n",
      "fueltype_gas          -2423.0935    975.579     -2.484      0.014   -4348.283    -497.904\n",
      "aspiration_turbo      -1139.2334    787.230     -1.447      0.150   -2692.738     414.271\n",
      "carbody_hardtop       -3728.0949   1519.366     -2.454      0.015   -6726.383    -729.807\n",
      "carbody_hatchback     -4639.1279   1294.594     -3.583      0.000   -7193.855   -2084.401\n",
      "carbody_sedan         -3337.7854   1356.075     -2.461      0.015   -6013.838    -661.732\n",
      "carbody_wagon         -4315.4661   1465.089     -2.946      0.004   -7206.646   -1424.287\n",
      "drivewheel_fwd          297.2402   1121.766      0.265      0.791   -1916.431    2510.912\n",
      "drivewheel_rwd         1939.1594   1226.536      1.581      0.116    -481.263    4359.582\n",
      "enginetype_dohcv      -1.713e+04   4540.120     -3.773      0.000   -2.61e+04   -8171.142\n",
      "enginetype_l           2176.0521   1332.818      1.633      0.104    -454.106    4806.211\n",
      "enginetype_ohc         4006.5687    897.437      4.464      0.000    2235.584    5777.553\n",
      "enginetype_ohcf        5421.2822   1388.078      3.906      0.000    2682.076    8160.488\n",
      "enginetype_ohcv       -5001.2242   1345.435     -3.717      0.000   -7656.280   -2346.169\n",
      "enginetype_rotor      -5196.6413   2084.532     -2.493      0.014   -9310.217   -1083.066\n",
      "cylindernumber_five   -1.389e+04   2891.599     -4.802      0.000   -1.96e+04   -8180.353\n",
      "cylindernumber_four   -1.618e+04   3243.610     -4.989      0.000   -2.26e+04   -9780.800\n",
      "cylindernumber_six    -1.175e+04   2287.516     -5.135      0.000   -1.63e+04   -7231.547\n",
      "cylindernumber_three  -9264.0553   4750.899     -1.950      0.053   -1.86e+04     111.279\n",
      "cylindernumber_twelve -1.214e+04   3386.507     -3.585      0.000   -1.88e+04   -5458.378\n",
      "cylindernumber_two    -5196.6413   2084.532     -2.493      0.014   -9310.217   -1083.066\n",
      "==============================================================================\n",
      "Omnibus:                       18.493   Durbin-Watson:                   1.249\n",
      "Prob(Omnibus):                  0.000   Jarque-Bera (JB):               50.728\n",
      "Skew:                           0.293   Prob(JB):                     9.65e-12\n",
      "Kurtosis:                       5.365   Cond. No.                     1.02e+16\n",
      "==============================================================================\n",
      "\n",
      "Notes:\n",
      "[1] Standard Errors assume that the covariance matrix of the errors is correctly specified.\n",
      "[2] The smallest eigenvalue is 1.35e-23. This might indicate that there are\n",
      "strong multicollinearity problems or that the design matrix is singular.\n"
     ]
    }
   ],
   "source": [
    "no_company = df_dummy.columns[~df_dummy.columns.str.contains('company')]\n",
    "independent_variables_no_company = ('+').join(no_company[~no_company.isin(['price'])])\n",
    "no_company_lm = smf.ols('price ~ ' + independent_variables_no_company, df_dummy).fit()\n",
    "print(no_company_lm.summary())"
   ]
  },
  {
   "cell_type": "code",
   "execution_count": 200,
   "id": "dab5f048-23a6-44ed-bb48-1de420f8731b",
   "metadata": {},
   "outputs": [],
   "source": [
    "# answer: \n",
    "# - Большинство коэффициентов, связанных с марками машин, статистически незначимы\n",
    "# - Если судить чисто по диагностическим показателям (вроде R2), то модель со все\n",
    "\n",
    "\n",
    "ми предикторами лучшая"
   ]
  },
  {
   "cell_type": "markdown",
   "id": "dd703006-4333-4257-9c79-19a01b6c24b9",
   "metadata": {},
   "source": [
    "## Task 8"
   ]
  },
  {
   "cell_type": "code",
   "execution_count": 207,
   "id": "92d9872f-e7bf-4412-bcfe-5ab19bb648d0",
   "metadata": {},
   "outputs": [],
   "source": [
    "# answer: \n",
    "# Выбранная модель объясняет примерно 90% дисперсии (окр. до целого). \n",
    "# Среди предикторов 10 из 27 оказались не значимыми (p > 0.05). \n",
    "# Пример интерпретации: при единичном изменении показателя horsepower, цена ВОЗРАСТАЕТ на 86.8164 (без округления)."
   ]
  },
  {
   "cell_type": "code",
   "execution_count": null,
   "id": "ab3b46f5-e004-4f77-aa02-52a65bc13716",
   "metadata": {},
   "outputs": [],
   "source": []
  }
 ],
 "metadata": {
  "kernelspec": {
   "display_name": "Python 3 (ipykernel)",
   "language": "python",
   "name": "python3"
  },
  "language_info": {
   "codemirror_mode": {
    "name": "ipython",
    "version": 3
   },
   "file_extension": ".py",
   "mimetype": "text/x-python",
   "name": "python",
   "nbconvert_exporter": "python",
   "pygments_lexer": "ipython3",
   "version": "3.9.6"
  }
 },
 "nbformat": 4,
 "nbformat_minor": 5
}
