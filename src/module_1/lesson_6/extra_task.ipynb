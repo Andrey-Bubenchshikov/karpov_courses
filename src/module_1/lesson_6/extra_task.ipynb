{
 "cells": [
  {
   "cell_type": "code",
   "execution_count": 1,
   "id": "646d6e27-86f5-4b79-9a27-7987501b7aeb",
   "metadata": {},
   "outputs": [],
   "source": [
    "import pandas as pd\n",
    "import seaborn as sns\n",
    "%matplotlib inline\n",
    "import matplotlib.pyplot as plt\n",
    "\n",
    "sns.set(\n",
    "    font_scale=2,\n",
    "    style=\"whitegrid\",\n",
    "    rc={'figure.figsize':(20,7)}\n",
    ")"
   ]
  },
  {
   "cell_type": "code",
   "execution_count": 3,
   "id": "ca8b6a2b-4354-45f3-b0a7-dc7dcb33cd11",
   "metadata": {},
   "outputs": [],
   "source": [
    "gff = pd.read_csv('gff.tsv', sep='\\t')"
   ]
  },
  {
   "cell_type": "markdown",
   "id": "d8104430-ac99-40c6-8e7b-8192aa00abfc",
   "metadata": {},
   "source": [
    "## Task 1"
   ]
  },
  {
   "cell_type": "code",
   "execution_count": 68,
   "id": "41559900-b475-4937-9f17-ad678ac5f8fb",
   "metadata": {},
   "outputs": [],
   "source": [
    "clean_gff = (\n",
    "    gff\n",
    "    .assign(attributes = gff.attributes.str.split(';', n=2))\n",
    "    .explode('attributes')\n",
    "    .query(\"attributes.str.startswith('Parent')\")\n",
    "    .assign(attributes = lambda x: x.attributes.str.replace(',', '').str.removeprefix('Parent='))\n",
    ")"
   ]
  },
  {
   "cell_type": "code",
   "execution_count": 69,
   "id": "4f7a43cb-bf7b-4efa-b1b1-55e1c405a831",
   "metadata": {},
   "outputs": [
    {
     "data": {
      "text/plain": [
       "attributes\n",
       "XM_001475631.1              479\n",
       "NC_000083.5:LOC100040603     33\n",
       "dtype: int64"
      ]
     },
     "execution_count": 69,
     "metadata": {},
     "output_type": "execute_result"
    }
   ],
   "source": [
    "clean_gff.value_counts('attributes')"
   ]
  },
  {
   "cell_type": "markdown",
   "id": "998727a1-089b-4080-8950-48c4bdaa2ddf",
   "metadata": {},
   "source": [
    "## Task 2"
   ]
  },
  {
   "cell_type": "code",
   "execution_count": 70,
   "id": "8a18d437-64bb-4eaa-b5ea-2871edddac34",
   "metadata": {},
   "outputs": [
    {
     "data": {
      "text/plain": [
       "type\n",
       "exon               201\n",
       "CDS                170\n",
       "five_prime_UTR      47\n",
       "mRNA                33\n",
       "three_prime_UTR     32\n",
       "protein             29\n",
       "dtype: int64"
      ]
     },
     "execution_count": 70,
     "metadata": {},
     "output_type": "execute_result"
    }
   ],
   "source": [
    "clean_gff.value_counts('type')"
   ]
  },
  {
   "cell_type": "code",
   "execution_count": null,
   "id": "49e45d77-8846-4cc1-a5d4-fb88e7f9db9b",
   "metadata": {},
   "outputs": [],
   "source": []
  }
 ],
 "metadata": {
  "kernelspec": {
   "display_name": "Python 3 (ipykernel)",
   "language": "python",
   "name": "python3"
  },
  "language_info": {
   "codemirror_mode": {
    "name": "ipython",
    "version": 3
   },
   "file_extension": ".py",
   "mimetype": "text/x-python",
   "name": "python",
   "nbconvert_exporter": "python",
   "pygments_lexer": "ipython3",
   "version": "3.9.6"
  }
 },
 "nbformat": 4,
 "nbformat_minor": 5
}
