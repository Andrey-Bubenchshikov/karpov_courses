{
 "cells": [
  {
   "cell_type": "code",
   "execution_count": null,
   "id": "407432ac-5ea3-48d7-a49d-29c7739a62c9",
   "metadata": {},
   "outputs": [],
   "source": [
    "from scipy import special #модуль питона, предназначенный для научных и инженерных расчетов"
   ]
  },
  {
   "cell_type": "code",
   "execution_count": 26,
   "id": "134d761a-c2ad-4809-8298-8f8c5b611994",
   "metadata": {},
   "outputs": [
    {
     "data": {
      "text/plain": [
       "1.0"
      ]
     },
     "execution_count": 26,
     "metadata": {},
     "output_type": "execute_result"
    }
   ],
   "source": [
    "special.comb(5, 5)"
   ]
  },
  {
   "cell_type": "markdown",
   "id": "ee6a9ef6-a9d3-42f4-b180-c8cecc7930e0",
   "metadata": {},
   "source": [
    "## Task 1"
   ]
  },
  {
   "cell_type": "code",
   "execution_count": 13,
   "id": "510ac25c-b751-4d2d-b55e-3190d7ca9fcd",
   "metadata": {},
   "outputs": [
    {
     "data": {
      "text/plain": [
       "0.23040000000000005"
      ]
     },
     "execution_count": 13,
     "metadata": {},
     "output_type": "execute_result"
    }
   ],
   "source": [
    "(0.4*0.4*0.4*0.6*0.6)*special.comb(5, 3)"
   ]
  },
  {
   "cell_type": "markdown",
   "id": "c86ebc06-ada1-4e60-b6eb-821bfad7653e",
   "metadata": {},
   "source": [
    "## Task 2"
   ]
  },
  {
   "cell_type": "code",
   "execution_count": 25,
   "id": "6d6c5665-6713-4134-b3a9-4c5b650a01b4",
   "metadata": {},
   "outputs": [
    {
     "data": {
      "text/plain": [
       "0.9222400000000001"
      ]
     },
     "execution_count": 25,
     "metadata": {},
     "output_type": "execute_result"
    }
   ],
   "source": [
    "#(0.4*0.6*0.6*0.6*0.6)*special.comb(5, 1)\n",
    "# 1 - everyone is healthy\n",
    "1-(0.6**5)"
   ]
  },
  {
   "cell_type": "markdown",
   "id": "1fc25877-eee6-4b72-8660-296e0611cb8e",
   "metadata": {},
   "source": [
    "## Task 3"
   ]
  },
  {
   "cell_type": "code",
   "execution_count": 32,
   "id": "c9013073-144f-4cfd-b52d-450b31f60a6d",
   "metadata": {},
   "outputs": [
    {
     "data": {
      "text/plain": [
       "0.7447016700000001"
      ]
     },
     "execution_count": 32,
     "metadata": {},
     "output_type": "execute_result"
    }
   ],
   "source": [
    "# 1 - at least one gets his AND none get hit\n",
    "1 - ((0.3**1)*(0.7**7)*special.comb(8,1)+(0.3**0 * 0.7**8))"
   ]
  },
  {
   "cell_type": "markdown",
   "id": "d51bf601-3b28-4eea-830e-0773ffe4eb95",
   "metadata": {},
   "source": [
    "## Task 4"
   ]
  },
  {
   "cell_type": "code",
   "execution_count": 33,
   "id": "354b578a-33b7-4c51-bf34-dcd2ab61c170",
   "metadata": {},
   "outputs": [
    {
     "data": {
      "text/plain": [
       "0.419904"
      ]
     },
     "execution_count": 33,
     "metadata": {},
     "output_type": "execute_result"
    }
   ],
   "source": [
    "(0.4**2)*(0.6**5)*special.comb(7,2) + (0.4**1)*(0.6**6)*special.comb(7,1) + (0.4**0)*(0.6**7)*special.comb(7,0)"
   ]
  },
  {
   "cell_type": "markdown",
   "id": "96f76ce8-ad10-4684-88fb-4df75dd3db3a",
   "metadata": {},
   "source": [
    "## Task 5"
   ]
  },
  {
   "cell_type": "code",
   "execution_count": 20,
   "id": "f30b730a-d1f2-4170-b6bc-68d1bdb54e15",
   "metadata": {},
   "outputs": [
    {
     "data": {
      "text/plain": [
       "0.7734375"
      ]
     },
     "execution_count": 34,
     "metadata": {},
     "output_type": "execute_result"
    }
   ],
   "source": [
    "1 - ( (0.5**2)*(0.5**5)*special.comb(7,2) + (0.5**1)*(0.5**6)*special.comb(7,1) + (0.5**0)*(0.5**7)*special.comb(7,0) )"
   ]
  },
  {
   "cell_type": "markdown",
   "id": "b3acf06d-a547-4595-bbe3-38bf0819a5dc",
   "metadata": {},
   "source": [
    "## Task 6"
   ]
  },
  {
   "cell_type": "code",
   "execution_count": 36,
   "id": "b774ffee-1e95-40dd-b1a8-4ff30ce7fc95",
   "metadata": {},
   "outputs": [
    {
     "data": {
      "text/plain": [
       "0.466064453125"
      ]
     },
     "execution_count": 36,
     "metadata": {},
     "output_type": "execute_result"
    }
   ],
   "source": [
    "1 - ((0.25**1)*(0.75**5)*special.comb(6,1) + (0.25**0)*(0.75**6))"
   ]
  },
  {
   "cell_type": "markdown",
   "id": "fe471aef-8eee-491e-bf36-64fcd782db44",
   "metadata": {},
   "source": [
    "## Task 7 -- Something is wrong here"
   ]
  },
  {
   "cell_type": "code",
   "execution_count": 41,
   "id": "4b7f6340-4012-43e5-8ca2-87ef382873bb",
   "metadata": {},
   "outputs": [
    {
     "data": {
      "text/plain": [
       "0.9298091736000003"
      ]
     },
     "execution_count": 41,
     "metadata": {},
     "output_type": "execute_result"
    }
   ],
   "source": [
    "(0.9**10)*(0.1**0)*special.comb(10,10) + (0.9**9)*(0.1**1)*special.comb(10,9) + (0.9**8)*(0.1**2)*special.comb(10,8)"
   ]
  },
  {
   "cell_type": "markdown",
   "id": "97d3d47a-1974-45d4-b5d5-921743bc9116",
   "metadata": {},
   "source": [
    "## Task 8"
   ]
  },
  {
   "cell_type": "code",
   "execution_count": 42,
   "id": "00887ae2-d275-4470-80c5-0a6e6ab9d273",
   "metadata": {},
   "outputs": [
    {
     "data": {
      "text/plain": [
       "0.22765622036690206"
      ]
     },
     "execution_count": 42,
     "metadata": {},
     "output_type": "execute_result"
    }
   ],
   "source": [
    "(0.1**2 * 0.9**28) * special.comb(30,2)"
   ]
  },
  {
   "cell_type": "markdown",
   "id": "bfc90f64-afc6-4289-86cc-3a3a964ee141",
   "metadata": {},
   "source": [
    "## Task 9"
   ]
  },
  {
   "cell_type": "code",
   "execution_count": 64,
   "id": "8c3bd26b-9cc2-460b-b3ee-1e7b217f1543",
   "metadata": {},
   "outputs": [
    {
     "data": {
      "text/plain": [
       "4.739726027397261"
      ]
     },
     "execution_count": 64,
     "metadata": {},
     "output_type": "execute_result"
    }
   ],
   "source": [
    "1730/365"
   ]
  },
  {
   "cell_type": "code",
   "execution_count": null,
   "id": "2c147604-414f-4736-9337-c2521a05512b",
   "metadata": {},
   "outputs": [],
   "source": []
  },
  {
   "cell_type": "markdown",
   "id": "3e147112-7e0f-4787-8baa-485ddfff0ca0",
   "metadata": {},
   "source": [
    "## Task 10"
   ]
  },
  {
   "cell_type": "code",
   "execution_count": 63,
   "id": "6c362a7b-d90d-4019-9468-e0159cae2fba",
   "metadata": {},
   "outputs": [
    {
     "data": {
      "text/plain": [
       "0.32501250000000004"
      ]
     },
     "execution_count": 63,
     "metadata": {},
     "output_type": "execute_result"
    }
   ],
   "source": [
    "(1 - ((0.75**1 * 0.25**4) * special.comb(20,1) + (0.75**0 * 0.25**5))) * ((0.4**2 * 0.6**3) * special.comb(5,2))"
   ]
  }
 ],
 "metadata": {
  "kernelspec": {
   "display_name": "Python 3 (ipykernel)",
   "language": "python",
   "name": "python3"
  },
  "language_info": {
   "codemirror_mode": {
    "name": "ipython",
    "version": 3
   },
   "file_extension": ".py",
   "mimetype": "text/x-python",
   "name": "python",
   "nbconvert_exporter": "python",
   "pygments_lexer": "ipython3",
   "version": "3.9.6"
  }
 },
 "nbformat": 4,
 "nbformat_minor": 5
}
