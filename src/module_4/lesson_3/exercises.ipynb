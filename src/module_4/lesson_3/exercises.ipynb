{
 "cells": [
  {
   "cell_type": "code",
   "execution_count": 2,
   "id": "9f0a6414-aca3-453e-afdb-0d02f9423b10",
   "metadata": {},
   "outputs": [],
   "source": [
    "#define function for Bayes' theorem\n",
    "def bayesTheorem(pA, pB, pBA):\n",
    "    return pA * pBA / pB"
   ]
  },
  {
   "cell_type": "markdown",
   "id": "afb0f0c1-1731-4ef8-b6a3-2ae6e984aecc",
   "metadata": {},
   "source": [
    "## Task 1"
   ]
  },
  {
   "cell_type": "code",
   "execution_count": 5,
   "id": "6e11e99a-b825-4f54-bc09-ad32d6d1cf7c",
   "metadata": {},
   "outputs": [
    {
     "data": {
      "text/plain": [
       "0.03559999999999999"
      ]
     },
     "execution_count": 5,
     "metadata": {},
     "output_type": "execute_result"
    }
   ],
   "source": [
    "180/500*0.03 + 170/500*0.02 + 150/500*0.06"
   ]
  },
  {
   "cell_type": "markdown",
   "id": "7a4ff335-98d4-4983-af62-00c30c54f975",
   "metadata": {},
   "source": [
    "## Task 2"
   ]
  },
  {
   "cell_type": "code",
   "execution_count": 6,
   "id": "4f6ed7cc-3cb2-4d01-821c-469e6ede11b6",
   "metadata": {},
   "outputs": [
    {
     "data": {
      "text/plain": [
       "0.8588235294117647"
      ]
     },
     "execution_count": 6,
     "metadata": {},
     "output_type": "execute_result"
    }
   ],
   "source": [
    "1/17*0.8 + 4/17*0.9 + 12/17*0.85"
   ]
  },
  {
   "cell_type": "markdown",
   "id": "d8e31e02-046c-4ead-98f6-044aa975fef6",
   "metadata": {},
   "source": [
    "## Task 3"
   ]
  },
  {
   "cell_type": "code",
   "execution_count": 13,
   "id": "79802969-f293-41c7-9a68-e7b86f44a499",
   "metadata": {},
   "outputs": [
    {
     "data": {
      "text/plain": [
       "(0.5547945205479452, 0.10958904109589043, 0.33561643835616434)"
      ]
     },
     "execution_count": 13,
     "metadata": {},
     "output_type": "execute_result"
    }
   ],
   "source": [
    "pB = 18/40*0.9 + 8/40*0.4 + 14/40*0.7\n",
    "\n",
    "A = bayesTheorem((18/40), pB, 0.9)\n",
    "B = bayesTheorem((8/40), pB, 0.4)\n",
    "C = bayesTheorem((14/40), pB, 0.7)\n",
    "\n",
    "A, B, C\n",
    "# answer - group A with 0.5547945205479452"
   ]
  },
  {
   "cell_type": "markdown",
   "id": "e1e7f984-4777-4213-aa93-1966dfd2a2ec",
   "metadata": {},
   "source": [
    "## Task 4"
   ]
  },
  {
   "cell_type": "code",
   "execution_count": null,
   "id": "8e4fa0b5-5155-437a-96d5-4b3fbf519b85",
   "metadata": {},
   "outputs": [],
   "source": [
    "b"
   ]
  },
  {
   "cell_type": "markdown",
   "id": "7680d616-9f11-40b2-bdf5-35ece8a654c3",
   "metadata": {},
   "source": [
    "## Task 5"
   ]
  },
  {
   "cell_type": "code",
   "execution_count": 14,
   "id": "2167de29-c8ac-4d4b-bd96-e79dc52b46cb",
   "metadata": {},
   "outputs": [
    {
     "data": {
      "text/plain": [
       "0.78"
      ]
     },
     "execution_count": 14,
     "metadata": {},
     "output_type": "execute_result"
    }
   ],
   "source": [
    "(12/50 * 0.9) + (20/50 * 0.6) + (18/50 * 0.9)"
   ]
  },
  {
   "cell_type": "markdown",
   "id": "63e41248-c6c2-47aa-bcc0-89054cb89138",
   "metadata": {},
   "source": [
    "## Task 6"
   ]
  },
  {
   "cell_type": "code",
   "execution_count": 15,
   "id": "dff083e8-af1a-4b60-8bc8-a8a2c7e6c00f",
   "metadata": {},
   "outputs": [
    {
     "data": {
      "text/plain": [
       "0.9933110367892977"
      ]
     },
     "execution_count": 15,
     "metadata": {},
     "output_type": "execute_result"
    }
   ],
   "source": [
    "(0.6 * 0.99) / (0.6 * 0.99 + 0.4*0.01)"
   ]
  },
  {
   "cell_type": "markdown",
   "id": "dfdae91b-dc90-4e90-adb8-954ac1ca0aec",
   "metadata": {},
   "source": [
    "## Task 7 "
   ]
  },
  {
   "cell_type": "code",
   "execution_count": 18,
   "id": "b3447542-2009-45cc-8896-40a571f7d38d",
   "metadata": {},
   "outputs": [
    {
     "data": {
      "text/plain": [
       "0.27777777777777773"
      ]
     },
     "execution_count": 18,
     "metadata": {},
     "output_type": "execute_result"
    }
   ],
   "source": [
    "pB = (0.2*0.02) + (0.5*0.01) + (0.3*0.03)\n",
    "bayesTheorem(0.5, pB, 0.01)"
   ]
  },
  {
   "cell_type": "markdown",
   "id": "46990290-ff1c-4cd0-a47c-f0ed8e1925a0",
   "metadata": {},
   "source": [
    "## Task 8"
   ]
  },
  {
   "cell_type": "code",
   "execution_count": 23,
   "id": "28942337-c778-4ea9-9fb5-753e80e875b2",
   "metadata": {},
   "outputs": [
    {
     "data": {
      "text/plain": [
       "0.001582099672279354"
      ]
     },
     "execution_count": 23,
     "metadata": {},
     "output_type": "execute_result"
    }
   ],
   "source": [
    "pPlane = 0.07\n",
    "pNotFinding = (\n",
    "    0.07*0.02 # probability of plane being there but us not finding it \n",
    "    + 0.93*0.95 # probability of plane not being there and us not finding it \n",
    ")\n",
    "pNotFindingPlane = 0.02\n",
    "\n",
    "\n",
    "bayesTheorem(pPlane, pNotFinding, pNotFindingPlane)"
   ]
  },
  {
   "cell_type": "markdown",
   "id": "1b14b0ee-c1fb-442b-90fb-792d20ce5ca5",
   "metadata": {},
   "source": [
    "## Task 9"
   ]
  },
  {
   "cell_type": "code",
   "execution_count": 24,
   "id": "d5c2f28b-29ed-4c61-9c99-03af81f7907d",
   "metadata": {},
   "outputs": [
    {
     "data": {
      "text/plain": [
       "0.786697247706422"
      ]
     },
     "execution_count": 24,
     "metadata": {},
     "output_type": "execute_result"
    }
   ],
   "source": [
    "pPlane = 0.07\n",
    "pNotFinding = (\n",
    "    0.07*0.98 # probability of plane being there and us finding it \n",
    "    + 0.93*0.02 # probability of plane not being there and us finding it \n",
    ")\n",
    "pNotFindingPlane = 0.98\n",
    "\n",
    "\n",
    "bayesTheorem(pPlane, pNotFinding, pNotFindingPlane)"
   ]
  },
  {
   "cell_type": "markdown",
   "id": "e8e6f301-e1b2-4bca-a111-6ebd9f75fd1a",
   "metadata": {},
   "source": [
    "## Task 10"
   ]
  },
  {
   "cell_type": "code",
   "execution_count": 29,
   "id": "0161e3c4-ce25-472f-97d6-3b9f9e7ee84b",
   "metadata": {},
   "outputs": [
    {
     "data": {
      "text/plain": [
       "0.7032967032967034"
      ]
     },
     "execution_count": 29,
     "metadata": {},
     "output_type": "execute_result"
    }
   ],
   "source": [
    "pA = 0.8\n",
    "pB = (\n",
    "    0.8*0.04 + 0.15*0.06 + 0.05*0.09 \n",
    ")\n",
    "pBA = 0.04\n",
    "\n",
    "\n",
    "bayesTheorem(pA, pB, pBA)"
   ]
  },
  {
   "cell_type": "code",
   "execution_count": null,
   "id": "7bdd516f-fd61-4682-be9f-f28d914c4d9a",
   "metadata": {},
   "outputs": [],
   "source": []
  }
 ],
 "metadata": {
  "kernelspec": {
   "display_name": "Python 3 (ipykernel)",
   "language": "python",
   "name": "python3"
  },
  "language_info": {
   "codemirror_mode": {
    "name": "ipython",
    "version": 3
   },
   "file_extension": ".py",
   "mimetype": "text/x-python",
   "name": "python",
   "nbconvert_exporter": "python",
   "pygments_lexer": "ipython3",
   "version": "3.9.6"
  }
 },
 "nbformat": 4,
 "nbformat_minor": 5
}
